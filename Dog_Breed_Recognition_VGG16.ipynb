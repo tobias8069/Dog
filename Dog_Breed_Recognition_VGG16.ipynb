{
 "cells": [
  {
   "cell_type": "code",
   "execution_count": 1,
   "metadata": {
    "scrolled": false
   },
   "outputs": [
    {
     "name": "stderr",
     "output_type": "stream",
     "text": [
      "C:\\Users\\Java\\Anaconda3\\envs\\tensorflow\\lib\\site-packages\\h5py\\__init__.py:36: FutureWarning: Conversion of the second argument of issubdtype from `float` to `np.floating` is deprecated. In future, it will be treated as `np.float64 == np.dtype(float).type`.\n",
      "  from ._conv import register_converters as _register_converters\n"
     ]
    },
    {
     "name": "stdout",
     "output_type": "stream",
     "text": [
      "Platform: Windows-10-10.0.16299-SP0\n",
      "Tensorflow version: 1.5.0\n",
      "Keras version: 2.1.3\n"
     ]
    },
    {
     "name": "stderr",
     "output_type": "stream",
     "text": [
      "Using TensorFlow backend.\n"
     ]
    }
   ],
   "source": [
    "# 這個Jupyter Notebook的環境\n",
    "import platform\n",
    "import tensorflow\n",
    "import keras\n",
    "print(\"Platform: {}\".format(platform.platform()))\n",
    "print(\"Tensorflow version: {}\".format(tensorflow.__version__))\n",
    "print(\"Keras version: {}\".format(keras.__version__))\n",
    "\n",
    "%matplotlib inline\n",
    "import matplotlib.pyplot as plt\n",
    "import matplotlib.image as mpimg\n",
    "import numpy as np\n",
    "from IPython.display import Image\n",
    "from keras import optimizers"
   ]
  },
  {
   "cell_type": "raw",
   "metadata": {},
   "source": [
    "該原始數據集包含25,000張狗和貓的圖像（每個類別12,500個），大小為543MB（壓縮）。下載和解壓縮後，我們將創建一個包含三個子集的新數據集：一組包含每個類的1000個樣本的訓練集，每組500個樣本的驗證集，最後一個包含每個類的500個樣本的測試集。\n",
    "\n",
    "資料準備\n",
    "從Kaggle點擊Download下載圖像資料檔training.zip。\n",
    "在這個Jupyter Notebook所在的目錄下產生一個新的子目錄\"data\"。\n",
    "把從kaggle下載的資料檔複製到\"data\"的目錄裡頭。\n",
    "將train.zip解壓縮\n",
    "最後你的目錄結構看起來像這樣:\n",
    "\n",
    "xx-yyy.ipynb\n",
    "data/\n",
    "└── train/\n",
    "    ├── cat.0.jpg\n",
    "    ├── cat.1.jpg\n",
    "    ├── ..\n",
    "    └── dog.12499.jpg"
   ]
  },
  {
   "cell_type": "code",
   "execution_count": 2,
   "metadata": {
    "scrolled": true
   },
   "outputs": [
    {
     "name": "stdout",
     "output_type": "stream",
     "text": [
      "D:\\BB105Project\\dogrecognition\\Model\n",
      "Copy first 200 breed images to train_breed_dir complete!\n",
      "Copy next 50 brees images to validation_breed_dir complete!\n"
     ]
    }
   ],
   "source": [
    "import os, shutil\n",
    "# 專案的根目錄路徑\n",
    "os.chdir('D:\\\\BB105Project\\\\dogrecognition\\\\Model')\n",
    "\n",
    "ROOT_DIR = os.getcwd()\n",
    "\n",
    "print(os.getcwd())\n",
    "\n",
    "breed_dir =  os.listdir('data\\\\select_train')[:16]\n",
    "\n",
    "\n",
    "# 置放coco圖像資料與標註資料的目錄\n",
    "DATA_PATH = os.path.join(ROOT_DIR, \"data\")\n",
    "\n",
    "# 原始數據集的路徑 ./data/train\n",
    "original_dataset_dir = os.path.join(DATA_PATH, \"select_train\")\n",
    "\n",
    "# 存儲小數據集的目錄 ./data/cats_and_dogs_small\n",
    "base_dir = os.path.join(DATA_PATH, \"dog_breed\")\n",
    "if not os.path.exists(base_dir): \n",
    "    os.mkdir(base_dir)\n",
    "    \n",
    "#----------------------------------------------------------\n",
    "\n",
    "# 我們的訓練資料的目錄 ./data/cats_and_dogs_small/train\n",
    "train_dir = os.path.join(base_dir, 'train')\n",
    "if not os.path.exists(train_dir): \n",
    "    os.mkdir(train_dir)\n",
    "\n",
    "# 我們的驗證資料的目錄 ./data/cats_and_dogs_small/validation\n",
    "validation_dir = os.path.join(base_dir, 'validation')\n",
    "if not os.path.exists(validation_dir): \n",
    "    os.mkdir(validation_dir)\n",
    "\n",
    "# 我們的測試資料的目錄 ./data/cats_and_dogs_small/test\n",
    "test_dir = os.path.join(base_dir, 'test')\n",
    "if not os.path.exists(test_dir):\n",
    "    os.mkdir(test_dir)\n",
    "    \n",
    "#----------------------------------------------------------  \n",
    "\n",
    "# 狗種的圖片的訓練資料目錄 ./data/cats_and_dogs_small/train/cats\n",
    "for breed in breed_dir:\n",
    "    train_cats_dir = os.path.join(train_dir, breed)\n",
    "    if not os.path.exists(train_cats_dir):\n",
    "        os.mkdir(train_cats_dir)\n",
    "\n",
    "    \n",
    "# 狗種的圖片的驗證資料目錄 ./data/cats_and_dogs_small/validation/cats\n",
    "for breed in breed_dir:\n",
    "    validation_cats_dir = os.path.join(validation_dir, breed)\n",
    "    if not os.path.exists(validation_cats_dir):\n",
    "        os.mkdir(validation_cats_dir)\n",
    "\n",
    "    \n",
    "# 狗種的圖片的測試資料目錄 ./data/cats_and_dogs_small/test/cats\n",
    "for breed in breed_dir:\n",
    "    test_cats_dir = os.path.join(test_dir, breed)\n",
    "    if not os.path.exists(test_cats_dir):\n",
    "        os.mkdir(test_cats_dir)\n",
    "    \n",
    "#----------------------------------------------------------\n",
    "\n",
    "# 複製前400個狗種的圖片到train_cats_dir\n",
    "for breed in breed_dir:\n",
    "    breed_path = os.path.join(original_dataset_dir,breed)\n",
    "    train_path = os.path.join(train_dir,breed)\n",
    "    fnames = os.listdir(breed_path)[:200]\n",
    "    for fname in fnames:\n",
    "        src = os.path.join(breed_path, fname)\n",
    "        dst = os.path.join(train_path, fname)\n",
    "        if not os.path.exists(dst):\n",
    "            shutil.copyfile(src, dst)\n",
    "\n",
    "print('Copy first 200 breed images to train_breed_dir complete!')\n",
    "\n",
    "# 複製下100個狗種的圖片到validation_cats_dir\n",
    "for breed in breed_dir:\n",
    "    breed_path = os.path.join(original_dataset_dir,breed)\n",
    "    validation_path = os.path.join(validation_dir,breed)\n",
    "    fnames = os.listdir(breed_path)[200:250]\n",
    "    for fname in fnames:\n",
    "        src = os.path.join(breed_path, fname)\n",
    "        dst = os.path.join(validation_path, fname)\n",
    "        if not os.path.exists(dst):\n",
    "            shutil.copyfile(src, dst)\n",
    "\n",
    "print('Copy next 50 brees images to validation_breed_dir complete!')\n",
    "\n",
    "# 複製下500個貓的圖片到test_cats_dir\n",
    "#fnames = ['cat.{}.jpg'.format(i) for i in range(1500, 2000)]\n",
    "#for fname in fnames:\n",
    "#    src = os.path.join(original_dataset_dir, fname)\n",
    "#    dst = os.path.join(test_cats_dir, fname)\n",
    "#    if not os.path.exists(dst):\n",
    "#        shutil.copyfile(src, dst)\n",
    "\n",
    "#print('Copy next 500 cat images to test_cats_dir complete!')\n",
    "\n",
    "\n",
    "\n",
    "#print('total training cat images:', len(os.listdir(train_cats_dir)))\n",
    "#print('total training dog images:', len(os.listdir(train_dogs_dir)))\n",
    "#print('total validation cat images:', len(os.listdir(validation_cats_dir)))\n",
    "#print('total validation dog images:', len(os.listdir(validation_dogs_dir)))\n",
    "#print('total test cat images:', len(os.listdir(test_cats_dir)))\n",
    "#print('total test dog images:', len(os.listdir(test_dogs_dir)))"
   ]
  },
  {
   "cell_type": "markdown",
   "metadata": {},
   "source": [
    "# 特徵提取 (feature extraction)\n",
    "特徵提取包括了使用預訓練好的網絡模型來從新樣本中提取特徵。這些特徵通過一個\"新\"的分類器(從頭開始訓練)。"
   ]
  },
  {
   "cell_type": "markdown",
   "metadata": {},
   "source": [
    "實例化一個VGG16模型："
   ]
  },
  {
   "cell_type": "code",
   "execution_count": 3,
   "metadata": {},
   "outputs": [],
   "source": [
    "from keras.applications import VGG16\n",
    "\n",
    "conv_base = VGG16(weights='imagenet',\n",
    "                  include_top=False, # 在這裡告訴 keras我們只需要卷積基底的權重模型資訊\n",
    "                  input_shape=(150, 150, 3)) # 宣告我們要處理的圖像大小與顏色通道數"
   ]
  },
  {
   "cell_type": "markdown",
   "metadata": {},
   "source": [
    "我們向構造函數傳遞了三個參數：\n",
    "\n",
    "weights, 指定從哪個權重檢查點從中初始化模型\n",
    "\n",
    "include_top, 這是指在網絡頂部要包括或不包含密集連接的分類器。默認情況下，這個密集連接的分類器將對應於ImageNet的1000個類別。因為我們打算用自己建構的分類器（只有兩個類別，貓和狗），因此我們不需要包括它。\n",
    "\n",
    "input_shape, 我們將餵進到網絡的圖像張量的形狀(shape)。這個參數純粹是可選的：如果我們設定，那麼網絡將能夠處理任何大小的輸入。\n",
    "以下是VGG16“卷積基底”架構的細節：它與您已經熟悉的簡單卷積網絡(convnets)非常相似。"
   ]
  },
  {
   "cell_type": "code",
   "execution_count": 4,
   "metadata": {},
   "outputs": [
    {
     "name": "stdout",
     "output_type": "stream",
     "text": [
      "_________________________________________________________________\n",
      "Layer (type)                 Output Shape              Param #   \n",
      "=================================================================\n",
      "input_1 (InputLayer)         (None, 150, 150, 3)       0         \n",
      "_________________________________________________________________\n",
      "block1_conv1 (Conv2D)        (None, 150, 150, 64)      1792      \n",
      "_________________________________________________________________\n",
      "block1_conv2 (Conv2D)        (None, 150, 150, 64)      36928     \n",
      "_________________________________________________________________\n",
      "block1_pool (MaxPooling2D)   (None, 75, 75, 64)        0         \n",
      "_________________________________________________________________\n",
      "block2_conv1 (Conv2D)        (None, 75, 75, 128)       73856     \n",
      "_________________________________________________________________\n",
      "block2_conv2 (Conv2D)        (None, 75, 75, 128)       147584    \n",
      "_________________________________________________________________\n",
      "block2_pool (MaxPooling2D)   (None, 37, 37, 128)       0         \n",
      "_________________________________________________________________\n",
      "block3_conv1 (Conv2D)        (None, 37, 37, 256)       295168    \n",
      "_________________________________________________________________\n",
      "block3_conv2 (Conv2D)        (None, 37, 37, 256)       590080    \n",
      "_________________________________________________________________\n",
      "block3_conv3 (Conv2D)        (None, 37, 37, 256)       590080    \n",
      "_________________________________________________________________\n",
      "block3_pool (MaxPooling2D)   (None, 18, 18, 256)       0         \n",
      "_________________________________________________________________\n",
      "block4_conv1 (Conv2D)        (None, 18, 18, 512)       1180160   \n",
      "_________________________________________________________________\n",
      "block4_conv2 (Conv2D)        (None, 18, 18, 512)       2359808   \n",
      "_________________________________________________________________\n",
      "block4_conv3 (Conv2D)        (None, 18, 18, 512)       2359808   \n",
      "_________________________________________________________________\n",
      "block4_pool (MaxPooling2D)   (None, 9, 9, 512)         0         \n",
      "_________________________________________________________________\n",
      "block5_conv1 (Conv2D)        (None, 9, 9, 512)         2359808   \n",
      "_________________________________________________________________\n",
      "block5_conv2 (Conv2D)        (None, 9, 9, 512)         2359808   \n",
      "_________________________________________________________________\n",
      "block5_conv3 (Conv2D)        (None, 9, 9, 512)         2359808   \n",
      "_________________________________________________________________\n",
      "block5_pool (MaxPooling2D)   (None, 4, 4, 512)         0         \n",
      "=================================================================\n",
      "Total params: 14,714,688\n",
      "Trainable params: 14,714,688\n",
      "Non-trainable params: 0\n",
      "_________________________________________________________________\n"
     ]
    }
   ],
   "source": [
    "conv_base.summary() # 打印一下模型資訊"
   ]
  },
  {
   "cell_type": "markdown",
   "metadata": {},
   "source": [
    "## 方法2: (卷積基底:凍結 + 串接新的密集分類層) >> 重新訓練"
   ]
  },
  {
   "cell_type": "markdown",
   "metadata": {},
   "source": [
    "現在，我們來回顧一下我們提到的第二種特徵提取技術，這種方法要慢得多，而且會花更多的時間與計算資源，但是我們可以在訓練過程中利用數據擴充(data augmentation): 擴展conv_base模型，並進行端(end)對端(end)的訓練。\n",
    "\n",
    "請注意，這種手法真的是非常昂貴的，所以只有在你有GPU時才應該嘗試它：在CPU上是絕對棘手的。如果您無法在GPU上運行代碼，那麼前一個手法就是你要選的路。\n",
    "\n",
    "因為模型的行為就像堆積木，所以你可以添加一個模型（像我們的conv_base）到Sequential模型，就像添加一個圖層一樣。所以你可以執行以下操作："
   ]
  },
  {
   "cell_type": "markdown",
   "metadata": {},
   "source": [
    "### 移花+接木"
   ]
  },
  {
   "cell_type": "code",
   "execution_count": 5,
   "metadata": {},
   "outputs": [],
   "source": [
    "from keras import models\n",
    "from keras import layers\n",
    "\n",
    "model = models.Sequential() # 產生一個新的網絡模型結構\n",
    "model.add(conv_base)        # 把預訓練的卷積基底疊上去\n",
    "model.add(layers.Flatten()) # 打平\n",
    "model.add(layers.Dense(256, activation='relu'))  # 疊上新的密集連接層來做為分類器\n",
    "model.add(layers.Dense(16, activation='softmax')) # 因為我的資料集只有兩類(cat & dog)"
   ]
  },
  {
   "cell_type": "code",
   "execution_count": 6,
   "metadata": {
    "scrolled": true
   },
   "outputs": [
    {
     "name": "stdout",
     "output_type": "stream",
     "text": [
      "_________________________________________________________________\n",
      "Layer (type)                 Output Shape              Param #   \n",
      "=================================================================\n",
      "vgg16 (Model)                (None, 4, 4, 512)         14714688  \n",
      "_________________________________________________________________\n",
      "flatten_1 (Flatten)          (None, 8192)              0         \n",
      "_________________________________________________________________\n",
      "dense_1 (Dense)              (None, 256)               2097408   \n",
      "_________________________________________________________________\n",
      "dense_2 (Dense)              (None, 16)                4112      \n",
      "=================================================================\n",
      "Total params: 16,816,208\n",
      "Trainable params: 16,816,208\n",
      "Non-trainable params: 0\n",
      "_________________________________________________________________\n"
     ]
    }
   ],
   "source": [
    "model.summary()"
   ]
  },
  {
   "cell_type": "code",
   "execution_count": 7,
   "metadata": {},
   "outputs": [
    {
     "name": "stdout",
     "output_type": "stream",
     "text": [
      "This is the number of trainable weights before freezing the conv base: 30\n"
     ]
    }
   ],
   "source": [
    "# 看一下“凍結前”有多少可以被訓練的權重\n",
    "print('This is the number of trainable weights '\n",
    "      'before freezing the conv base:', len(model.trainable_weights))"
   ]
  },
  {
   "cell_type": "code",
   "execution_count": 8,
   "metadata": {},
   "outputs": [],
   "source": [
    "# “凍結”卷積基底\n",
    "conv_base.trainable = False"
   ]
  },
  {
   "cell_type": "code",
   "execution_count": 9,
   "metadata": {
    "scrolled": true
   },
   "outputs": [
    {
     "name": "stdout",
     "output_type": "stream",
     "text": [
      "This is the number of trainable weights after freezing the conv base: 4\n"
     ]
    }
   ],
   "source": [
    "# 再看一下“凍結後”有多少可以被訓練的權重\n",
    "print('This is the number of trainable weights '\n",
    "      'after freezing the conv base:', len(model.trainable_weights))"
   ]
  },
  {
   "cell_type": "code",
   "execution_count": 10,
   "metadata": {},
   "outputs": [
    {
     "name": "stdout",
     "output_type": "stream",
     "text": [
      "Found 3196 images belonging to 16 classes.\n",
      "Found 703 images belonging to 16 classes.\n"
     ]
    }
   ],
   "source": [
    "from keras.preprocessing.image import ImageDataGenerator\n",
    "from keras import optimizers\n",
    "import datetime as dt\n",
    "start = dt.datetime.now()\n",
    "\n",
    "train_datagen = ImageDataGenerator(\n",
    "      rescale=1./255,\n",
    "      rotation_range=40,\n",
    "      width_shift_range=0.2,\n",
    "      height_shift_range=0.2,\n",
    "      shear_range=0.2,\n",
    "      zoom_range=0.2,\n",
    "      horizontal_flip=True,\n",
    "      fill_mode='nearest')\n",
    "\n",
    "# 請注意: 驗證用的資料不要進行資料的增強\n",
    "test_datagen = ImageDataGenerator(rescale=1./255)\n",
    "\n",
    "train_generator = train_datagen.flow_from_directory(\n",
    "        # 圖像資料的目錄\n",
    "        train_dir,\n",
    "        # 設定圖像的高(height)與寬(width)\n",
    "        target_size=(150, 150),\n",
    "        batch_size=50,\n",
    "        # 因為我們的目標資料集只有兩類(cat & dog)\n",
    "        class_mode='categorical')\n",
    "\n",
    "validation_generator = test_datagen.flow_from_directory(\n",
    "        validation_dir,\n",
    "        target_size=(150, 150),\n",
    "        batch_size=50,\n",
    "        class_mode='categorical')"
   ]
  },
  {
   "cell_type": "code",
   "execution_count": 11,
   "metadata": {},
   "outputs": [
    {
     "data": {
      "text/plain": [
       "{'Border Collie': 0,\n",
       " 'Chihuahua': 1,\n",
       " 'Doberman': 2,\n",
       " 'Formosan': 3,\n",
       " 'German shepherd': 4,\n",
       " 'Labrador Retriever': 5,\n",
       " 'Pomeranian': 6,\n",
       " 'Samoyed': 7,\n",
       " 'Siberian husky': 8,\n",
       " 'Welsh Corgi': 9,\n",
       " 'dingo': 10,\n",
       " 'golden retriever': 11,\n",
       " 'maltese': 12,\n",
       " 'shiba': 13,\n",
       " 'toy poodle': 14,\n",
       " 'vizsla': 15}"
      ]
     },
     "execution_count": 11,
     "metadata": {},
     "output_type": "execute_result"
    }
   ],
   "source": [
    "train_generator.class_indices"
   ]
  },
  {
   "cell_type": "code",
   "execution_count": 10,
   "metadata": {
    "scrolled": true
   },
   "outputs": [
    {
     "name": "stdout",
     "output_type": "stream",
     "text": [
      "Found 3196 images belonging to 16 classes.\n",
      "Found 703 images belonging to 16 classes.\n",
      "Epoch 1/30\n",
      "100/100 [==============================] - 215s 2s/step - loss: 2.7472 - acc: 0.1115 - val_loss: 2.5469 - val_acc: 0.2047\n",
      "Epoch 2/30\n",
      "100/100 [==============================] - 188s 2s/step - loss: 2.5252 - acc: 0.2171 - val_loss: 2.3464 - val_acc: 0.2789\n",
      "Epoch 3/30\n",
      "100/100 [==============================] - 187s 2s/step - loss: 2.3833 - acc: 0.2779 - val_loss: 2.1599 - val_acc: 0.3560\n",
      "Epoch 4/30\n",
      "100/100 [==============================] - 188s 2s/step - loss: 2.2388 - acc: 0.3310 - val_loss: 2.0212 - val_acc: 0.4116\n",
      "Epoch 5/30\n",
      "100/100 [==============================] - 188s 2s/step - loss: 2.1423 - acc: 0.3539 - val_loss: 1.9324 - val_acc: 0.4311\n",
      "Epoch 6/30\n",
      "100/100 [==============================] - 186s 2s/step - loss: 2.0540 - acc: 0.3746 - val_loss: 1.8516 - val_acc: 0.4520\n",
      "Epoch 7/30\n",
      "100/100 [==============================] - 188s 2s/step - loss: 1.9838 - acc: 0.4057 - val_loss: 1.7749 - val_acc: 0.4549\n",
      "Epoch 8/30\n",
      "100/100 [==============================] - 188s 2s/step - loss: 1.9084 - acc: 0.4261 - val_loss: 1.7086 - val_acc: 0.4875\n",
      "Epoch 9/30\n",
      "100/100 [==============================] - 188s 2s/step - loss: 1.8587 - acc: 0.4484 - val_loss: 1.6430 - val_acc: 0.4909\n",
      "Epoch 10/30\n",
      "100/100 [==============================] - 188s 2s/step - loss: 1.8114 - acc: 0.4496 - val_loss: 1.5947 - val_acc: 0.5180\n",
      "Epoch 11/30\n",
      "100/100 [==============================] - 189s 2s/step - loss: 1.7829 - acc: 0.4603 - val_loss: 1.5538 - val_acc: 0.5248\n",
      "Epoch 12/30\n",
      "100/100 [==============================] - 188s 2s/step - loss: 1.7275 - acc: 0.4736 - val_loss: 1.5358 - val_acc: 0.5216\n",
      "Epoch 13/30\n",
      "100/100 [==============================] - 188s 2s/step - loss: 1.6921 - acc: 0.4941 - val_loss: 1.5232 - val_acc: 0.5231\n",
      "Epoch 14/30\n",
      "100/100 [==============================] - 189s 2s/step - loss: 1.6615 - acc: 0.4972 - val_loss: 1.4661 - val_acc: 0.5502\n",
      "Epoch 15/30\n",
      "100/100 [==============================] - 189s 2s/step - loss: 1.6383 - acc: 0.4990 - val_loss: 1.4579 - val_acc: 0.5407\n",
      "Epoch 16/30\n",
      "100/100 [==============================] - 191s 2s/step - loss: 1.6082 - acc: 0.5044 - val_loss: 1.4428 - val_acc: 0.5468\n",
      "Epoch 17/30\n",
      "100/100 [==============================] - 191s 2s/step - loss: 1.5838 - acc: 0.5153 - val_loss: 1.4229 - val_acc: 0.5596\n",
      "Epoch 18/30\n",
      "100/100 [==============================] - 189s 2s/step - loss: 1.5632 - acc: 0.5200 - val_loss: 1.4067 - val_acc: 0.5675\n",
      "Epoch 19/30\n",
      "100/100 [==============================] - 191s 2s/step - loss: 1.5483 - acc: 0.5253 - val_loss: 1.3919 - val_acc: 0.5591\n",
      "Epoch 20/30\n",
      "100/100 [==============================] - 190s 2s/step - loss: 1.5236 - acc: 0.5402 - val_loss: 1.3931 - val_acc: 0.5786\n",
      "Epoch 21/30\n",
      "100/100 [==============================] - 190s 2s/step - loss: 1.4903 - acc: 0.5435 - val_loss: 1.3728 - val_acc: 0.5588\n",
      "Epoch 22/30\n",
      "100/100 [==============================] - 191s 2s/step - loss: 1.5120 - acc: 0.5342 - val_loss: 1.3474 - val_acc: 0.5651\n",
      "Epoch 23/30\n",
      "100/100 [==============================] - 191s 2s/step - loss: 1.4907 - acc: 0.5437 - val_loss: 1.3497 - val_acc: 0.5812\n",
      "Epoch 24/30\n",
      "100/100 [==============================] - 189s 2s/step - loss: 1.4626 - acc: 0.5537 - val_loss: 1.3201 - val_acc: 0.5830\n",
      "Epoch 25/30\n",
      "100/100 [==============================] - 190s 2s/step - loss: 1.4409 - acc: 0.5567 - val_loss: 1.3214 - val_acc: 0.5909\n",
      "Epoch 26/30\n",
      "100/100 [==============================] - 191s 2s/step - loss: 1.4156 - acc: 0.5720 - val_loss: 1.3331 - val_acc: 0.5816\n",
      "Epoch 27/30\n",
      "100/100 [==============================] - 189s 2s/step - loss: 1.4182 - acc: 0.5659 - val_loss: 1.2899 - val_acc: 0.5978\n",
      "Epoch 28/30\n",
      "100/100 [==============================] - 189s 2s/step - loss: 1.4178 - acc: 0.5636 - val_loss: 1.3230 - val_acc: 0.5825\n",
      "Epoch 29/30\n",
      "100/100 [==============================] - 189s 2s/step - loss: 1.3836 - acc: 0.5686 - val_loss: 1.2887 - val_acc: 0.6049\n",
      "Epoch 30/30\n",
      "100/100 [==============================] - 188s 2s/step - loss: 1.3850 - acc: 0.5730 - val_loss: 1.2888 - val_acc: 0.5878\n",
      "Total time 5696 s.\n"
     ]
    }
   ],
   "source": [
    "from keras.preprocessing.image import ImageDataGenerator\n",
    "from keras import optimizers\n",
    "import datetime as dt\n",
    "start = dt.datetime.now()\n",
    "\n",
    "train_datagen = ImageDataGenerator(\n",
    "      rescale=1./255,\n",
    "      rotation_range=40,\n",
    "      width_shift_range=0.2,\n",
    "      height_shift_range=0.2,\n",
    "      shear_range=0.2,\n",
    "      zoom_range=0.2,\n",
    "      horizontal_flip=True,\n",
    "      fill_mode='nearest')\n",
    "\n",
    "# 請注意: 驗證用的資料不要進行資料的增強\n",
    "test_datagen = ImageDataGenerator(rescale=1./255)\n",
    "\n",
    "train_generator = train_datagen.flow_from_directory(\n",
    "        # 圖像資料的目錄\n",
    "        train_dir,\n",
    "        # 設定圖像的高(height)與寬(width)\n",
    "        target_size=(150, 150),\n",
    "        batch_size=50,\n",
    "        # 因為我們的目標資料集只有兩類(cat & dog)\n",
    "        class_mode='categorical')\n",
    "\n",
    "validation_generator = test_datagen.flow_from_directory(\n",
    "        validation_dir,\n",
    "        target_size=(150, 150),\n",
    "        batch_size=50,\n",
    "        class_mode='categorical')\n",
    "\n",
    "model.compile(loss='categorical_crossentropy',\n",
    "              optimizer=optimizers.RMSprop(lr=2e-5),\n",
    "              metrics=['acc'])\n",
    "\n",
    "start = dt.datetime.now()\n",
    "\n",
    "history = model.fit_generator(\n",
    "      train_generator,\n",
    "      steps_per_epoch=100,\n",
    "      epochs=30,\n",
    "      validation_data=validation_generator,\n",
    "      validation_steps=50)\n",
    "\n",
    "end = dt.datetime.now()\n",
    "print('Total time {} s.'.format((end - start).seconds))"
   ]
  },
  {
   "cell_type": "code",
   "execution_count": 11,
   "metadata": {},
   "outputs": [],
   "source": [
    "model.save('breed16_VGG16_2.2.h5') # 把模型儲存到檔案"
   ]
  },
  {
   "cell_type": "code",
   "execution_count": 12,
   "metadata": {},
   "outputs": [
    {
     "data": {
      "image/png": "[encoded data removed]",
      "text/plain": [
       "<matplotlib.figure.Figure at 0x154516d1208>"
      ]
     },
     "metadata": {},
     "output_type": "display_data"
    },
    {
     "data": {
      "image/png": "[encoded data removed]",
      "text/plain": [
       "<matplotlib.figure.Figure at 0x15452333390>"
      ]
     },
     "metadata": {},
     "output_type": "display_data"
    }
   ],
   "source": [
    "acc = history.history['acc']\n",
    "val_acc = history.history['val_acc']\n",
    "loss = history.history['loss']\n",
    "val_loss = history.history['val_loss']\n",
    "\n",
    "epochs = range(len(acc))\n",
    "\n",
    "plt.plot(epochs, acc, label='Training acc')\n",
    "plt.plot(epochs, val_acc, label='Validation acc')\n",
    "plt.title('Training and validation accuracy')\n",
    "plt.legend()\n",
    "\n",
    "plt.figure()\n",
    "\n",
    "plt.plot(epochs, loss, label='Training loss')\n",
    "plt.plot(epochs, val_loss, label='Validation loss')\n",
    "plt.title('Training and validation loss')\n",
    "plt.legend()\n",
    "\n",
    "plt.show()"
   ]
  },
  {
   "cell_type": "markdown",
   "metadata": {},
   "source": [
    "# 微調 (fine-tuning)\n",
    "\n",
    "另一種廣泛使用的模型重覆利用技術，與_特徵提取(feature extraction)_相輔相成，是 _(微調) fine-tuning_。\n",
    "\n",
    "微調包括解凍用於特徵提取的凍結模型庫中的幾個頂層(top layers)，並且共同訓練新添加的模型部分（在我們的範例中是完全連接的分類器）和這些頂層。這被稱為“微調(fine-tuning)”，因為它稍微調整正在重複使用的模型中更抽象的表示，以使它們與當前的要處理的問題更相關。\n",
    "\n",
    "![fine-tuning VGG16](https://s3.amazonaws.com/book.keras.io/img/ch5/vgg16_fine_tuning.png)"
   ]
  },
  {
   "cell_type": "code",
   "execution_count": null,
   "metadata": {},
   "outputs": [
    {
     "name": "stdout",
     "output_type": "stream",
     "text": [
      "input_1: False\n",
      "block1_conv1: False\n",
      "block1_conv2: False\n",
      "block1_pool: False\n",
      "block2_conv1: False\n",
      "block2_conv2: False\n",
      "block2_pool: False\n",
      "block3_conv1: False\n",
      "block3_conv2: False\n",
      "block3_conv3: False\n",
      "block3_pool: False\n",
      "block4_conv1: False\n",
      "block4_conv2: False\n",
      "block4_conv3: False\n",
      "block4_pool: False\n",
      "block5_conv1: True\n",
      "block5_conv2: True\n",
      "block5_conv3: True\n",
      "block5_pool: True\n"
     ]
    }
   ],
   "source": [
    "conv_base.trainable = True # 解凍 \"卷積基底\"\n",
    "\n",
    "# 所有層直到block4_pool都應該被凍結，而 block5_conv1，block5_conv2, block5_conv3 及 block5_pool則被解凍        \n",
    "layers_frozen = ['block5_conv1','block5_conv2', 'block5_conv3', 'block5_pool']\n",
    "for layer in conv_base.layers:\n",
    "    if layer.name in layers_frozen:\n",
    "        layer.trainable = True\n",
    "    else:\n",
    "        layer.trainable = False\n",
    "        \n",
    "# 把每一層是否可以被\"trainable\"的flat打印出來\n",
    "for layer in conv_base.layers:\n",
    "    print(\"{}: {}\".format(layer.name, layer.trainable))"
   ]
  },
  {
   "cell_type": "code",
   "execution_count": null,
   "metadata": {},
   "outputs": [
    {
     "name": "stdout",
     "output_type": "stream",
     "text": [
      "Epoch 1/50\n",
      "100/100 [==============================] - 211s 2s/step - loss: 1.2500 - acc: 0.5919 - val_loss: 1.2249 - val_acc: 0.6079\n",
      "Epoch 2/50\n",
      "100/100 [==============================] - 208s 2s/step - loss: 1.1463 - acc: 0.6283 - val_loss: 1.1250 - val_acc: 0.6295\n",
      "Epoch 3/50\n",
      "100/100 [==============================] - 207s 2s/step - loss: 1.0614 - acc: 0.6624 - val_loss: 1.1135 - val_acc: 0.6272\n",
      "Epoch 4/50\n",
      "100/100 [==============================] - 208s 2s/step - loss: 1.0030 - acc: 0.6757 - val_loss: 1.0971 - val_acc: 0.6554\n",
      "Epoch 5/50\n",
      "100/100 [==============================] - 208s 2s/step - loss: 0.9526 - acc: 0.6884 - val_loss: 1.0708 - val_acc: 0.6668\n",
      "Epoch 6/50\n",
      "100/100 [==============================] - 207s 2s/step - loss: 0.9093 - acc: 0.6994 - val_loss: 1.0275 - val_acc: 0.6812\n",
      "Epoch 7/50\n",
      "100/100 [==============================] - 207s 2s/step - loss: 0.8511 - acc: 0.7221 - val_loss: 1.0710 - val_acc: 0.6838\n",
      "Epoch 8/50\n",
      "100/100 [==============================] - 208s 2s/step - loss: 0.7874 - acc: 0.7428 - val_loss: 0.9932 - val_acc: 0.7198\n",
      "Epoch 9/50\n",
      "100/100 [==============================] - 207s 2s/step - loss: 0.7842 - acc: 0.7410 - val_loss: 1.0046 - val_acc: 0.7124\n",
      "Epoch 10/50\n",
      "100/100 [==============================] - 208s 2s/step - loss: 0.7343 - acc: 0.7580 - val_loss: 0.9815 - val_acc: 0.7206\n",
      "Epoch 11/50\n",
      "100/100 [==============================] - 207s 2s/step - loss: 0.7025 - acc: 0.7688 - val_loss: 1.0021 - val_acc: 0.7147\n",
      "Epoch 12/50\n",
      "100/100 [==============================] - 206s 2s/step - loss: 0.6762 - acc: 0.7773 - val_loss: 1.0017 - val_acc: 0.7016\n",
      "Epoch 13/50\n",
      "100/100 [==============================] - 207s 2s/step - loss: 0.6444 - acc: 0.7930 - val_loss: 0.9787 - val_acc: 0.7257\n",
      "Epoch 14/50\n",
      "100/100 [==============================] - 207s 2s/step - loss: 0.6114 - acc: 0.8011 - val_loss: 0.9951 - val_acc: 0.7173\n",
      "Epoch 15/50\n",
      "100/100 [==============================] - 206s 2s/step - loss: 0.6139 - acc: 0.8027 - val_loss: 0.9501 - val_acc: 0.7158\n",
      "Epoch 16/50\n",
      "100/100 [==============================] - 207s 2s/step - loss: 0.5839 - acc: 0.8110 - val_loss: 0.9269 - val_acc: 0.7461\n",
      "Epoch 17/50\n",
      "100/100 [==============================] - 206s 2s/step - loss: 0.5540 - acc: 0.8236 - val_loss: 1.1020 - val_acc: 0.7058\n",
      "Epoch 18/50\n",
      "100/100 [==============================] - 206s 2s/step - loss: 0.5339 - acc: 0.8223 - val_loss: 0.9106 - val_acc: 0.7483\n",
      "Epoch 19/50\n",
      "100/100 [==============================] - 207s 2s/step - loss: 0.4886 - acc: 0.8438 - val_loss: 0.9775 - val_acc: 0.7334\n",
      "Epoch 20/50\n",
      "100/100 [==============================] - 207s 2s/step - loss: 0.4894 - acc: 0.8379 - val_loss: 0.9884 - val_acc: 0.7342\n",
      "Epoch 21/50\n",
      "100/100 [==============================] - 206s 2s/step - loss: 0.4827 - acc: 0.8439 - val_loss: 0.9738 - val_acc: 0.7279\n",
      "Epoch 22/50\n",
      "100/100 [==============================] - 207s 2s/step - loss: 0.4574 - acc: 0.8456 - val_loss: 0.9901 - val_acc: 0.7211\n",
      "Epoch 23/50\n",
      "100/100 [==============================] - 207s 2s/step - loss: 0.4262 - acc: 0.8605 - val_loss: 0.9542 - val_acc: 0.7368\n",
      "Epoch 24/50\n",
      "100/100 [==============================] - 206s 2s/step - loss: 0.4230 - acc: 0.8624 - val_loss: 1.0474 - val_acc: 0.7292\n",
      "Epoch 25/50\n",
      "100/100 [==============================] - 207s 2s/step - loss: 0.4099 - acc: 0.8677 - val_loss: 1.0773 - val_acc: 0.7198\n",
      "Epoch 26/50\n",
      "100/100 [==============================] - 206s 2s/step - loss: 0.3929 - acc: 0.8797 - val_loss: 1.0474 - val_acc: 0.7206\n",
      "Epoch 27/50\n",
      "100/100 [==============================] - 206s 2s/step - loss: 0.3697 - acc: 0.8784 - val_loss: 1.0312 - val_acc: 0.7297\n",
      "Epoch 28/50\n",
      "100/100 [==============================] - 208s 2s/step - loss: 0.3676 - acc: 0.8825 - val_loss: 0.9806 - val_acc: 0.7435\n",
      "Epoch 29/50\n",
      "100/100 [==============================] - 206s 2s/step - loss: 0.3594 - acc: 0.8842 - val_loss: 0.9861 - val_acc: 0.7262\n",
      "Epoch 30/50\n",
      "100/100 [==============================] - 205s 2s/step - loss: 0.3438 - acc: 0.8900 - val_loss: 0.9983 - val_acc: 0.7444\n",
      "Epoch 31/50\n",
      "100/100 [==============================] - 207s 2s/step - loss: 0.3361 - acc: 0.8918 - val_loss: 1.0204 - val_acc: 0.7465\n",
      "Epoch 32/50\n",
      "100/100 [==============================] - 206s 2s/step - loss: 0.3281 - acc: 0.8913 - val_loss: 1.0095 - val_acc: 0.7321\n",
      "Epoch 33/50\n",
      "100/100 [==============================] - 205s 2s/step - loss: 0.3234 - acc: 0.8926 - val_loss: 0.9786 - val_acc: 0.7340\n",
      "Epoch 34/50\n",
      "100/100 [==============================] - 206s 2s/step - loss: 0.3170 - acc: 0.8929 - val_loss: 1.0514 - val_acc: 0.7363\n",
      "Epoch 35/50\n",
      "100/100 [==============================] - 207s 2s/step - loss: 0.2878 - acc: 0.9071 - val_loss: 1.0549 - val_acc: 0.7304\n",
      "Epoch 36/50\n",
      "100/100 [==============================] - 205s 2s/step - loss: 0.3024 - acc: 0.9023 - val_loss: 1.0879 - val_acc: 0.7388\n",
      "Epoch 37/50\n",
      "100/100 [==============================] - 207s 2s/step - loss: 0.2776 - acc: 0.9096 - val_loss: 0.9834 - val_acc: 0.7418\n",
      "Epoch 38/50\n",
      "100/100 [==============================] - 206s 2s/step - loss: 0.2526 - acc: 0.9151 - val_loss: 1.0670 - val_acc: 0.7368\n",
      "Epoch 39/50\n",
      "100/100 [==============================] - 205s 2s/step - loss: 0.2526 - acc: 0.9183 - val_loss: 1.1176 - val_acc: 0.7327\n",
      "Epoch 40/50\n",
      "100/100 [==============================] - 208s 2s/step - loss: 0.2443 - acc: 0.9221 - val_loss: 1.1477 - val_acc: 0.7257\n",
      "Epoch 41/50\n",
      "100/100 [==============================] - 206s 2s/step - loss: 0.2372 - acc: 0.9237 - val_loss: 1.0747 - val_acc: 0.7300\n",
      "Epoch 42/50\n",
      "100/100 [==============================] - 205s 2s/step - loss: 0.2344 - acc: 0.9282 - val_loss: 1.0324 - val_acc: 0.7530\n",
      "Epoch 43/50\n",
      "100/100 [==============================] - 206s 2s/step - loss: 0.2238 - acc: 0.9292 - val_loss: 1.0787 - val_acc: 0.7431\n",
      "Epoch 44/50\n",
      "100/100 [==============================] - 206s 2s/step - loss: 0.2253 - acc: 0.9257 - val_loss: 1.0711 - val_acc: 0.7482\n",
      "Epoch 45/50\n",
      "100/100 [==============================] - 205s 2s/step - loss: 0.2247 - acc: 0.9285 - val_loss: 1.0343 - val_acc: 0.7552\n",
      "Epoch 46/50\n",
      "100/100 [==============================] - 207s 2s/step - loss: 0.2128 - acc: 0.9309 - val_loss: 0.9944 - val_acc: 0.7478\n",
      "Epoch 47/50\n",
      "100/100 [==============================] - 206s 2s/step - loss: 0.2091 - acc: 0.9367 - val_loss: 1.0357 - val_acc: 0.7461\n",
      "Epoch 48/50\n",
      "100/100 [==============================] - 205s 2s/step - loss: 0.2041 - acc: 0.9325 - val_loss: 1.0171 - val_acc: 0.7617\n",
      "Epoch 49/50\n",
      "100/100 [==============================] - 206s 2s/step - loss: 0.1892 - acc: 0.9418 - val_loss: 1.1078 - val_acc: 0.7401\n",
      "Epoch 50/50\n",
      " 99/100 [============================>.] - ETA: 1s - loss: 0.1834 - acc: 0.9451"
     ]
    }
   ],
   "source": [
    "model.compile(loss='categorical_crossentropy',\n",
    "              optimizer=optimizers.RMSprop(lr=1e-5), # 使用小的learn rate\n",
    "              metrics=['acc'])\n",
    "\n",
    "start = dt.datetime.now()\n",
    "\n",
    "history = model.fit_generator(\n",
    "      train_generator,\n",
    "      steps_per_epoch=100,\n",
    "      epochs=50,\n",
    "      validation_data=validation_generator,\n",
    "      validation_steps=50)\n",
    "\n",
    "end = dt.datetime.now()\n",
    "print('Total time {} s.'.format((end - start).seconds))"
   ]
  },
  {
   "cell_type": "code",
   "execution_count": null,
   "metadata": {},
   "outputs": [],
   "source": [
    "model.save('breed16_VGG16_tunning_2.h5')"
   ]
  },
  {
   "cell_type": "code",
   "execution_count": null,
   "metadata": {},
   "outputs": [],
   "source": [
    "acc = history.history['acc']\n",
    "val_acc = history.history['val_acc']\n",
    "loss = history.history['loss']\n",
    "val_loss = history.history['val_loss']\n",
    "\n",
    "epochs = range(len(acc))\n",
    "\n",
    "plt.plot(epochs, acc, label='Training acc')\n",
    "plt.plot(epochs, val_acc, label='Validation acc')\n",
    "plt.title('Training and validation accuracy')\n",
    "plt.legend()\n",
    "\n",
    "plt.figure()\n",
    "\n",
    "plt.plot(epochs, loss, label='Training loss')\n",
    "plt.plot(epochs, val_loss, label='Validation loss')\n",
    "plt.title('Training and validation loss')\n",
    "plt.legend()\n",
    "\n",
    "plt.show()"
   ]
  },
  {
   "cell_type": "code",
   "execution_count": null,
   "metadata": {
    "scrolled": true
   },
   "outputs": [],
   "source": [
    "def smooth_curve(points, factor=0.8):\n",
    "  smoothed_points = []\n",
    "  for point in points:\n",
    "    if smoothed_points:\n",
    "      previous = smoothed_points[-1]\n",
    "      smoothed_points.append(previous * factor + point * (1 - factor))\n",
    "    else:\n",
    "      smoothed_points.append(point)\n",
    "  return smoothed_points\n",
    "\n",
    "plt.plot(epochs,\n",
    "         smooth_curve(acc), label='Smoothed training acc')\n",
    "plt.plot(epochs,\n",
    "         smooth_curve(val_acc), label='Smoothed validation acc')\n",
    "plt.title('Training and validation accuracy')\n",
    "plt.legend()\n",
    "\n",
    "plt.figure()\n",
    "\n",
    "plt.plot(epochs,\n",
    "         smooth_curve(loss), label='Smoothed training loss')\n",
    "plt.plot(epochs,\n",
    "         smooth_curve(val_loss), label='Smoothed validation loss')\n",
    "plt.title('Training and validation loss')\n",
    "plt.legend()\n",
    "\n",
    "plt.show()"
   ]
  }
 ],
 "metadata": {
  "kernelspec": {
   "display_name": "Python 3",
   "language": "python",
   "name": "python3"
  },
  "language_info": {
   "codemirror_mode": {
    "name": "ipython",
    "version": 3
   },
   "file_extension": ".py",
   "mimetype": "text/x-python",
   "name": "python",
   "nbconvert_exporter": "python",
   "pygments_lexer": "ipython3",
   "version": "3.6.4"
  }
 },
 "nbformat": 4,
 "nbformat_minor": 2
}
