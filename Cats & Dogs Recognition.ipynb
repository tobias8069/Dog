{
 "cells": [
  {
   "cell_type": "code",
   "execution_count": 1,
   "metadata": {
    "scrolled": true
   },
   "outputs": [
    {
     "name": "stderr",
     "output_type": "stream",
     "text": [
      "C:\\Users\\Java\\Anaconda3\\envs\\tensorflow\\lib\\site-packages\\h5py\\__init__.py:36: FutureWarning: Conversion of the second argument of issubdtype from `float` to `np.floating` is deprecated. In future, it will be treated as `np.float64 == np.dtype(float).type`.\n",
      "  from ._conv import register_converters as _register_converters\n"
     ]
    },
    {
     "name": "stdout",
     "output_type": "stream",
     "text": [
      "Platform: Windows-10-10.0.16299-SP0\n",
      "Tensorflow version: 1.5.0\n",
      "Keras version: 2.1.3\n"
     ]
    },
    {
     "name": "stderr",
     "output_type": "stream",
     "text": [
      "Using TensorFlow backend.\n"
     ]
    }
   ],
   "source": [
    "# 這個Jupyter Notebook的環境\n",
    "import platform\n",
    "import tensorflow\n",
    "import keras\n",
    "print(\"Platform: {}\".format(platform.platform()))\n",
    "print(\"Tensorflow version: {}\".format(tensorflow.__version__))\n",
    "print(\"Keras version: {}\".format(keras.__version__))\n",
    "\n",
    "%matplotlib inline\n",
    "import matplotlib.pyplot as plt\n",
    "import matplotlib.image as mpimg\n",
    "import numpy as np\n",
    "from IPython.display import Image"
   ]
  },
  {
   "cell_type": "raw",
   "metadata": {},
   "source": [
    "該原始數據集包含25,000張狗和貓的圖像（每個類別12,500個），大小為543MB（壓縮）。下載和解壓縮後，我們將創建一個包含三個子集的新數據集：一組包含每個類的1000個樣本的訓練集，每組500個樣本的驗證集，最後一個包含每個類的500個樣本的測試集。\n",
    "\n",
    "資料準備\n",
    "從Kaggle點擊Download下載圖像資料檔training.zip。\n",
    "在這個Jupyter Notebook所在的目錄下產生一個新的子目錄\"data\"。\n",
    "把從kaggle下載的資料檔複製到\"data\"的目錄裡頭。\n",
    "將train.zip解壓縮\n",
    "最後你的目錄結構看起來像這樣:\n",
    "\n",
    "xx-yyy.ipynb\n",
    "data/\n",
    "└── train/\n",
    "    ├── cat.0.jpg\n",
    "    ├── cat.1.jpg\n",
    "    ├── ..\n",
    "    └── dog.12499.jpg"
   ]
  },
  {
   "cell_type": "code",
   "execution_count": 2,
   "metadata": {
    "scrolled": true
   },
   "outputs": [
    {
     "name": "stdout",
     "output_type": "stream",
     "text": [
      "Copy first 1000 cat images to train_cats_dir complete!\n",
      "Copy next 500 cat images to validation_cats_dir complete!\n",
      "Copy next 500 cat images to test_cats_dir complete!\n",
      "Copy first 1000 dog images to train_dogs_dir complete!\n",
      "Copy next 500 dog images to validation_dogs_dir complete!\n",
      "Copy next 500 dog images to test_dogs_dir complete!\n",
      "\n",
      "total training cat images: 1000\n",
      "total training dog images: 1000\n",
      "total validation cat images: 500\n",
      "total validation dog images: 500\n",
      "total test cat images: 500\n",
      "total test dog images: 500\n"
     ]
    }
   ],
   "source": [
    "import os, shutil\n",
    "# 專案的根目錄路徑\n",
    "ROOT_DIR = os.getcwd()\n",
    "\n",
    "# 置放coco圖像資料與標註資料的目錄\n",
    "DATA_PATH = os.path.join(ROOT_DIR, \"data\")\n",
    "\n",
    "# 原始數據集的路徑 ./data/train\n",
    "original_dataset_dir = os.path.join(DATA_PATH, \"train\")\n",
    "\n",
    "# 存儲小數據集的目錄 ./data/cats_and_dogs_small\n",
    "base_dir = os.path.join(DATA_PATH, \"cats_and_dogs_small\")\n",
    "if not os.path.exists(base_dir): \n",
    "    os.mkdir(base_dir)\n",
    "    \n",
    "#----------------------------------------------------------\n",
    "\n",
    "# 我們的訓練資料的目錄 ./data/cats_and_dogs_small/train\n",
    "train_dir = os.path.join(base_dir, 'train')\n",
    "if not os.path.exists(train_dir): \n",
    "    os.mkdir(train_dir)\n",
    "\n",
    "# 我們的驗證資料的目錄 ./data/cats_and_dogs_small/validation\n",
    "validation_dir = os.path.join(base_dir, 'validation')\n",
    "if not os.path.exists(validation_dir): \n",
    "    os.mkdir(validation_dir)\n",
    "\n",
    "# 我們的測試資料的目錄 ./data/cats_and_dogs_small/test\n",
    "test_dir = os.path.join(base_dir, 'test')\n",
    "if not os.path.exists(test_dir):\n",
    "    os.mkdir(test_dir)\n",
    "    \n",
    "#----------------------------------------------------------  \n",
    "\n",
    "# 貓的圖片的訓練資料目錄 ./data/cats_and_dogs_small/train/cats\n",
    "train_cats_dir = os.path.join(train_dir, 'cats')\n",
    "if not os.path.exists(train_cats_dir):\n",
    "    os.mkdir(train_cats_dir)\n",
    "\n",
    "# 狗的圖片的訓練資料目錄 ./data/cats_and_dogs_small/train/dogs\n",
    "train_dogs_dir = os.path.join(train_dir, 'dogs')\n",
    "if not os.path.exists(train_dogs_dir):\n",
    "    os.mkdir(train_dogs_dir)\n",
    "    \n",
    "# 貓的圖片的驗證資料目錄 ./data/cats_and_dogs_small/validation/cats\n",
    "validation_cats_dir = os.path.join(validation_dir, 'cats')\n",
    "if not os.path.exists(validation_cats_dir):\n",
    "    os.mkdir(validation_cats_dir)\n",
    "\n",
    "# 狗的圖片的驗證資料目錄 ./data/cats_and_dogs_small/validation/dogs\n",
    "validation_dogs_dir = os.path.join(validation_dir, 'dogs')\n",
    "if not os.path.exists(validation_dogs_dir):\n",
    "    os.mkdir(validation_dogs_dir)\n",
    "    \n",
    "# 貓的圖片的測試資料目錄 ./data/cats_and_dogs_small/test/cats\n",
    "test_cats_dir = os.path.join(test_dir, 'cats')\n",
    "if not os.path.exists(test_cats_dir):\n",
    "    os.mkdir(test_cats_dir)\n",
    "\n",
    "# 狗的圖片的測試資料目錄 ./data/cats_and_dogs_small/testdogs\n",
    "test_dogs_dir = os.path.join(test_dir, 'dogs')\n",
    "if not os.path.exists(test_dogs_dir):\n",
    "    os.mkdir(test_dogs_dir)\n",
    "    \n",
    "#----------------------------------------------------------\n",
    "\n",
    "# 複製前1000個貓的圖片到train_cats_dir\n",
    "fnames = ['cat.{}.jpg'.format(i) for i in range(1000)]\n",
    "for fname in fnames:\n",
    "    src = os.path.join(original_dataset_dir, fname)\n",
    "    dst = os.path.join(train_cats_dir, fname)\n",
    "    if not os.path.exists(dst):\n",
    "        shutil.copyfile(src, dst)\n",
    "\n",
    "print('Copy first 1000 cat images to train_cats_dir complete!')\n",
    "\n",
    "# 複製下500個貓的圖片到validation_cats_dir\n",
    "fnames = ['cat.{}.jpg'.format(i) for i in range(1000, 1500)]\n",
    "for fname in fnames:\n",
    "    src = os.path.join(original_dataset_dir, fname)\n",
    "    dst = os.path.join(validation_cats_dir, fname)\n",
    "    if not os.path.exists(dst):\n",
    "        shutil.copyfile(src, dst)\n",
    "\n",
    "print('Copy next 500 cat images to validation_cats_dir complete!')\n",
    "\n",
    "# 複製下500個貓的圖片到test_cats_dir\n",
    "fnames = ['cat.{}.jpg'.format(i) for i in range(1500, 2000)]\n",
    "for fname in fnames:\n",
    "    src = os.path.join(original_dataset_dir, fname)\n",
    "    dst = os.path.join(test_cats_dir, fname)\n",
    "    if not os.path.exists(dst):\n",
    "        shutil.copyfile(src, dst)\n",
    "\n",
    "print('Copy next 500 cat images to test_cats_dir complete!')\n",
    "\n",
    "# 複製前1000個狗的圖片到train_dogs_dir\n",
    "fnames = ['dog.{}.jpg'.format(i) for i in range(1000)]\n",
    "for fname in fnames:\n",
    "    src = os.path.join(original_dataset_dir, fname)\n",
    "    dst = os.path.join(train_dogs_dir, fname)\n",
    "    if not os.path.exists(dst):\n",
    "        shutil.copyfile(src, dst)\n",
    "\n",
    "print('Copy first 1000 dog images to train_dogs_dir complete!')\n",
    "\n",
    "\n",
    "# 複製下500個狗的圖片到validation_dogs_dir\n",
    "fnames = ['dog.{}.jpg'.format(i) for i in range(1000, 1500)]\n",
    "for fname in fnames:\n",
    "    src = os.path.join(original_dataset_dir, fname)\n",
    "    dst = os.path.join(validation_dogs_dir, fname)\n",
    "    if not os.path.exists(dst):\n",
    "        shutil.copyfile(src, dst)\n",
    "\n",
    "print('Copy next 500 dog images to validation_dogs_dir complete!')\n",
    "\n",
    "# C複製下500個狗的圖片到test_dogs_dir\n",
    "fnames = ['dog.{}.jpg'.format(i) for i in range(1500, 2000)]\n",
    "for fname in fnames:\n",
    "    src = os.path.join(original_dataset_dir, fname)\n",
    "    dst = os.path.join(test_dogs_dir, fname)\n",
    "    if not os.path.exists(dst):\n",
    "        shutil.copyfile(src, dst)\n",
    "    \n",
    "print('Copy next 500 dog images to test_dogs_dir complete!\\n')\n",
    "\n",
    "print('total training cat images:', len(os.listdir(train_cats_dir)))\n",
    "print('total training dog images:', len(os.listdir(train_dogs_dir)))\n",
    "print('total validation cat images:', len(os.listdir(validation_cats_dir)))\n",
    "print('total validation dog images:', len(os.listdir(validation_dogs_dir)))\n",
    "print('total test cat images:', len(os.listdir(test_cats_dir)))\n",
    "print('total test dog images:', len(os.listdir(test_dogs_dir)))"
   ]
  },
  {
   "cell_type": "markdown",
   "metadata": {},
   "source": [
    "# 特徵提取 (feature extraction)\n",
    "特徵提取包括了使用預訓練好的網絡模型來從新樣本中提取特徵。這些特徵通過一個\"新\"的分類器(從頭開始訓練)。"
   ]
  },
  {
   "cell_type": "markdown",
   "metadata": {},
   "source": [
    "實例化一個VGG16模型："
   ]
  },
  {
   "cell_type": "code",
   "execution_count": 3,
   "metadata": {
    "collapsed": true
   },
   "outputs": [],
   "source": [
    "from keras.applications import VGG16\n",
    "\n",
    "conv_base = VGG16(weights='imagenet',\n",
    "                  include_top=False, # 在這裡告訴 keras我們只需要卷積基底的權重模型資訊\n",
    "                  input_shape=(150, 150, 3)) # 宣告我們要處理的圖像大小與顏色通道數"
   ]
  },
  {
   "cell_type": "markdown",
   "metadata": {},
   "source": [
    "我們向構造函數傳遞了三個參數：\n",
    "\n",
    "weights, 指定從哪個權重檢查點從中初始化模型\n",
    "\n",
    "include_top, 這是指在網絡頂部要包括或不包含密集連接的分類器。默認情況下，這個密集連接的分類器將對應於ImageNet的1000個類別。因為我們打算用自己建構的分類器（只有兩個類別，貓和狗），因此我們不需要包括它。\n",
    "\n",
    "input_shape, 我們將餵進到網絡的圖像張量的形狀(shape)。這個參數純粹是可選的：如果我們設定，那麼網絡將能夠處理任何大小的輸入。\n",
    "以下是VGG16“卷積基底”架構的細節：它與您已經熟悉的簡單卷積網絡(convnets)非常相似。"
   ]
  },
  {
   "cell_type": "code",
   "execution_count": 4,
   "metadata": {},
   "outputs": [
    {
     "name": "stdout",
     "output_type": "stream",
     "text": [
      "_________________________________________________________________\n",
      "Layer (type)                 Output Shape              Param #   \n",
      "=================================================================\n",
      "input_1 (InputLayer)         (None, 150, 150, 3)       0         \n",
      "_________________________________________________________________\n",
      "block1_conv1 (Conv2D)        (None, 150, 150, 64)      1792      \n",
      "_________________________________________________________________\n",
      "block1_conv2 (Conv2D)        (None, 150, 150, 64)      36928     \n",
      "_________________________________________________________________\n",
      "block1_pool (MaxPooling2D)   (None, 75, 75, 64)        0         \n",
      "_________________________________________________________________\n",
      "block2_conv1 (Conv2D)        (None, 75, 75, 128)       73856     \n",
      "_________________________________________________________________\n",
      "block2_conv2 (Conv2D)        (None, 75, 75, 128)       147584    \n",
      "_________________________________________________________________\n",
      "block2_pool (MaxPooling2D)   (None, 37, 37, 128)       0         \n",
      "_________________________________________________________________\n",
      "block3_conv1 (Conv2D)        (None, 37, 37, 256)       295168    \n",
      "_________________________________________________________________\n",
      "block3_conv2 (Conv2D)        (None, 37, 37, 256)       590080    \n",
      "_________________________________________________________________\n",
      "block3_conv3 (Conv2D)        (None, 37, 37, 256)       590080    \n",
      "_________________________________________________________________\n",
      "block3_pool (MaxPooling2D)   (None, 18, 18, 256)       0         \n",
      "_________________________________________________________________\n",
      "block4_conv1 (Conv2D)        (None, 18, 18, 512)       1180160   \n",
      "_________________________________________________________________\n",
      "block4_conv2 (Conv2D)        (None, 18, 18, 512)       2359808   \n",
      "_________________________________________________________________\n",
      "block4_conv3 (Conv2D)        (None, 18, 18, 512)       2359808   \n",
      "_________________________________________________________________\n",
      "block4_pool (MaxPooling2D)   (None, 9, 9, 512)         0         \n",
      "_________________________________________________________________\n",
      "block5_conv1 (Conv2D)        (None, 9, 9, 512)         2359808   \n",
      "_________________________________________________________________\n",
      "block5_conv2 (Conv2D)        (None, 9, 9, 512)         2359808   \n",
      "_________________________________________________________________\n",
      "block5_conv3 (Conv2D)        (None, 9, 9, 512)         2359808   \n",
      "_________________________________________________________________\n",
      "block5_pool (MaxPooling2D)   (None, 4, 4, 512)         0         \n",
      "=================================================================\n",
      "Total params: 14,714,688\n",
      "Trainable params: 14,714,688\n",
      "Non-trainable params: 0\n",
      "_________________________________________________________________\n"
     ]
    }
   ],
   "source": [
    "conv_base.summary() # 打印一下模型資訊"
   ]
  },
  {
   "cell_type": "markdown",
   "metadata": {},
   "source": [
    "## 方法1: 卷積基底:提取特徴 + 串接新的密集分類層:重新訓練\n",
    "\n",
    "我們來看看設置第一種方法所需的程式碼：在我們的數據上記錄“conv_base”的輸出，並使用這些輸出作為新模型的輸入。\n",
    "\n",
    "我們將首先簡單地運行以前介紹的“ImageDataGenerator”的實例，以將圖像提取為Numpy數組及其標籤。我們將通過調用`conv_base`模型的`predict`方法從這些圖像中提取特徵。"
   ]
  },
  {
   "cell_type": "markdown",
   "metadata": {},
   "source": [
    "### 移花"
   ]
  },
  {
   "cell_type": "code",
   "execution_count": 5,
   "metadata": {},
   "outputs": [
    {
     "name": "stdout",
     "output_type": "stream",
     "text": [
      "Found 2000 images belonging to 2 classes.\n",
      "extract_features complete!\n",
      "Found 1000 images belonging to 2 classes.\n",
      "extract_features complete!\n",
      "Found 1000 images belonging to 2 classes.\n",
      "extract_features complete!\n"
     ]
    }
   ],
   "source": [
    "##特徵提取\n",
    "\n",
    "import os\n",
    "import numpy as np\n",
    "from keras.preprocessing.image import ImageDataGenerator\n",
    "\n",
    "# base_dir = 'data/5_1/cats_and_dogs_small'\n",
    "# train_dir = os.path.join(base_dir, 'train')\n",
    "# validation_dir = os.path.join(base_dir, 'validation')\n",
    "# test_dir = os.path.join(base_dir, 'test')\n",
    "\n",
    "datagen = ImageDataGenerator(rescale=1./255) # 產生一個\"圖像資料產生器\"物件\n",
    "\n",
    "batch_size = 20 # 設定每次產生的圖像的數據批量\n",
    "\n",
    "# 提取圖像特徵\n",
    "def extract_features(directory, sample_count): # 影像的目錄, 要處理的圖像數\n",
    "    features = np.zeros(shape=(sample_count, 4, 4, 512)) # 根據VGG16(卷積基底)的最後一層的輪出張量規格\n",
    "    labels = np.zeros(shape=(sample_count)) # 要處理的圖像數\n",
    "    \n",
    "    # 產生一個\"圖像資料產生器\"實例(資料是在檔案目錄中), 每呼叫它一次, 它會吐出特定批次數的圖像資料\n",
    "    generator = datagen.flow_from_directory(\n",
    "        directory,\n",
    "        target_size=(150, 150),  # 設定圖像的高(height)與寬(width)\n",
    "        batch_size=batch_size,   # 設定每次產生的圖像的數據批量\n",
    "        class_mode='binary')     # 因為我們的目標資料集只有兩類(cat & dog)\n",
    "    \n",
    "    # 讓我們把訓練資料集所有的圖像都跑過一次\n",
    "    i = 0\n",
    "    for inputs_batch, labels_batch in generator:\n",
    "        features_batch = conv_base.predict(inputs_batch) # 透過“卷積基底”來淬取圖像特徵\n",
    "        features[i * batch_size : (i + 1) * batch_size] = features_batch # 把特徴先存放起來\n",
    "        labels[i * batch_size : (i + 1) * batch_size] = labels_batch #把標籤先存放起來\n",
    "        i += 1\n",
    "        if i * batch_size >= sample_count:\n",
    "            # Note that since generators yield data indefinitely in a loop,\n",
    "            # we must `break` after every image has been seen once.\n",
    "            break\n",
    "    \n",
    "    print('extract_features complete!')\n",
    "    return features, labels\n",
    "\n",
    "train_features, train_labels = extract_features(train_dir, 2000) # 訓練資料的圖像特徵淬取\n",
    "validation_features, validation_labels = extract_features(validation_dir, 1000) # 驗證資料的圖像特徵淬取\n",
    "test_features, test_labels = extract_features(test_dir, 1000) # 測試資料的圖像特徵淬取"
   ]
  },
  {
   "cell_type": "markdown",
   "metadata": {},
   "source": [
    "提取的特徵當前是（樣本數，4，4，512）的形狀。我們將它們餵給一個密集連接(densely-connected)的分類器，所以首先我們必須把它們壓扁(flatten)成（樣本數, 8192）:"
   ]
  },
  {
   "cell_type": "code",
   "execution_count": 6,
   "metadata": {
    "collapsed": true
   },
   "outputs": [],
   "source": [
    "train_features = np.reshape(train_features, (2000, 4 * 4 * 512))\n",
    "validation_features = np.reshape(validation_features, (1000, 4 * 4 * 512))\n",
    "test_features = np.reshape(test_features, (1000, 4 * 4 * 512))"
   ]
  },
  {
   "cell_type": "markdown",
   "metadata": {},
   "source": [
    "### 接木\n",
    "\n",
    "在這個時間點上，我們可以定義我們密集連接(densely-connected)的分類器（注意使用dropout來進行正規化），並對我們剛剛記錄的數據和標籤進行訓練："
   ]
  },
  {
   "cell_type": "code",
   "execution_count": 7,
   "metadata": {
    "scrolled": true
   },
   "outputs": [
    {
     "name": "stdout",
     "output_type": "stream",
     "text": [
      "Train on 2000 samples, validate on 1000 samples\n",
      "Epoch 1/30\n",
      "2000/2000 [==============================] - 1s 739us/step - loss: 0.5946 - acc: 0.6680 - val_loss: 0.4501 - val_acc: 0.8310\n",
      "Epoch 2/30\n",
      "2000/2000 [==============================] - 1s 531us/step - loss: 0.4248 - acc: 0.8085 - val_loss: 0.3626 - val_acc: 0.8700\n",
      "Epoch 3/30\n",
      "2000/2000 [==============================] - 1s 530us/step - loss: 0.3521 - acc: 0.8535 - val_loss: 0.3229 - val_acc: 0.8750\n",
      "Epoch 4/30\n",
      "2000/2000 [==============================] - 1s 526us/step - loss: 0.3035 - acc: 0.8730 - val_loss: 0.2975 - val_acc: 0.8870\n",
      "Epoch 5/30\n",
      "2000/2000 [==============================] - 1s 549us/step - loss: 0.2870 - acc: 0.8810 - val_loss: 0.2880 - val_acc: 0.8790\n",
      "Epoch 6/30\n",
      "2000/2000 [==============================] - 1s 543us/step - loss: 0.2728 - acc: 0.8910 - val_loss: 0.2839 - val_acc: 0.8780\n",
      "Epoch 7/30\n",
      "2000/2000 [==============================] - 1s 543us/step - loss: 0.2407 - acc: 0.9070 - val_loss: 0.2643 - val_acc: 0.8930\n",
      "Epoch 8/30\n",
      "2000/2000 [==============================] - 1s 532us/step - loss: 0.2264 - acc: 0.9140 - val_loss: 0.2593 - val_acc: 0.8930\n",
      "Epoch 9/30\n",
      "2000/2000 [==============================] - 1s 534us/step - loss: 0.2210 - acc: 0.9080 - val_loss: 0.2562 - val_acc: 0.8940\n",
      "Epoch 10/30\n",
      "2000/2000 [==============================] - 1s 525us/step - loss: 0.2070 - acc: 0.9185 - val_loss: 0.2500 - val_acc: 0.8950\n",
      "Epoch 11/30\n",
      "2000/2000 [==============================] - 1s 527us/step - loss: 0.1985 - acc: 0.9270 - val_loss: 0.2487 - val_acc: 0.8980\n",
      "Epoch 12/30\n",
      "2000/2000 [==============================] - 1s 526us/step - loss: 0.1777 - acc: 0.9345 - val_loss: 0.2517 - val_acc: 0.8990\n",
      "Epoch 13/30\n",
      "2000/2000 [==============================] - 1s 527us/step - loss: 0.1743 - acc: 0.9380 - val_loss: 0.2561 - val_acc: 0.8900\n",
      "Epoch 14/30\n",
      "2000/2000 [==============================] - 1s 537us/step - loss: 0.1704 - acc: 0.9370 - val_loss: 0.2452 - val_acc: 0.8990\n",
      "Epoch 15/30\n",
      "2000/2000 [==============================] - 1s 526us/step - loss: 0.1664 - acc: 0.9420 - val_loss: 0.2435 - val_acc: 0.8990\n",
      "Epoch 16/30\n",
      "2000/2000 [==============================] - 1s 531us/step - loss: 0.1561 - acc: 0.9485 - val_loss: 0.2429 - val_acc: 0.8980\n",
      "Epoch 17/30\n",
      "2000/2000 [==============================] - 1s 528us/step - loss: 0.1518 - acc: 0.9480 - val_loss: 0.2513 - val_acc: 0.8960\n",
      "Epoch 18/30\n",
      "2000/2000 [==============================] - 1s 532us/step - loss: 0.1479 - acc: 0.9495 - val_loss: 0.2374 - val_acc: 0.9010\n",
      "Epoch 19/30\n",
      "2000/2000 [==============================] - 1s 535us/step - loss: 0.1345 - acc: 0.9510 - val_loss: 0.2378 - val_acc: 0.9020\n",
      "Epoch 20/30\n",
      "2000/2000 [==============================] - 1s 528us/step - loss: 0.1328 - acc: 0.9550 - val_loss: 0.2374 - val_acc: 0.9020\n",
      "Epoch 21/30\n",
      "2000/2000 [==============================] - 1s 537us/step - loss: 0.1239 - acc: 0.9595 - val_loss: 0.2398 - val_acc: 0.9010\n",
      "Epoch 22/30\n",
      "2000/2000 [==============================] - 1s 531us/step - loss: 0.1198 - acc: 0.9585 - val_loss: 0.2399 - val_acc: 0.9000\n",
      "Epoch 23/30\n",
      "2000/2000 [==============================] - 1s 531us/step - loss: 0.1213 - acc: 0.9595 - val_loss: 0.2362 - val_acc: 0.9020\n",
      "Epoch 24/30\n",
      "2000/2000 [==============================] - 1s 532us/step - loss: 0.1129 - acc: 0.9595 - val_loss: 0.2453 - val_acc: 0.8980\n",
      "Epoch 25/30\n",
      "2000/2000 [==============================] - 1s 531us/step - loss: 0.1089 - acc: 0.9640 - val_loss: 0.2388 - val_acc: 0.9000\n",
      "Epoch 26/30\n",
      "2000/2000 [==============================] - 1s 546us/step - loss: 0.1034 - acc: 0.9640 - val_loss: 0.2511 - val_acc: 0.8970\n",
      "Epoch 27/30\n",
      "2000/2000 [==============================] - 1s 538us/step - loss: 0.0992 - acc: 0.9705 - val_loss: 0.2620 - val_acc: 0.8960\n",
      "Epoch 28/30\n",
      "2000/2000 [==============================] - 1s 544us/step - loss: 0.0974 - acc: 0.9675 - val_loss: 0.2441 - val_acc: 0.8990\n",
      "Epoch 29/30\n",
      "2000/2000 [==============================] - 1s 542us/step - loss: 0.0951 - acc: 0.9685 - val_loss: 0.2493 - val_acc: 0.8960\n",
      "Epoch 30/30\n",
      "2000/2000 [==============================] - 1s 550us/step - loss: 0.0881 - acc: 0.9725 - val_loss: 0.2434 - val_acc: 0.9010\n"
     ]
    }
   ],
   "source": [
    "from keras import models\n",
    "from keras import layers\n",
    "from keras import optimizers\n",
    "\n",
    "# 產生一個新的密集連接層來做為分類器\n",
    "model = models.Sequential()\n",
    "model.add(layers.Dense(256, activation='relu', input_dim=4 * 4 * 512))\n",
    "model.add(layers.Dropout(0.5))\n",
    "model.add(layers.Dense(1, activation='sigmoid')) # 因為我的資料集只有兩類(cat & dog)\n",
    "\n",
    "model.compile(optimizer=optimizers.RMSprop(lr=2e-5),\n",
    "              loss='binary_crossentropy',\n",
    "              metrics=['acc'])\n",
    "\n",
    "# 把透過預處理的卷積基底所提取的特徵做為input來進行訓練\n",
    "history = model.fit(train_features, train_labels,\n",
    "                    epochs=30,\n",
    "                    batch_size=20,\n",
    "                    validation_data=(validation_features, validation_labels))"
   ]
  },
  {
   "cell_type": "markdown",
   "metadata": {},
   "source": [
    "訓練非常快，因為我們只需要處理兩個Dense層：即使在CPU上，每個訓練循環(epoch)也需要不到一秒的時間。\n",
    "\n",
    "讓我們來看看訓練過程中的損失(loss)和精準度(accuracy):"
   ]
  },
  {
   "cell_type": "code",
   "execution_count": 8,
   "metadata": {
    "scrolled": false
   },
   "outputs": [
    {
     "data": {
      "image/png": "[encoded data removed]",
      "text/plain": [
       "<matplotlib.figure.Figure at 0x272c3882400>"
      ]
     },
     "metadata": {},
     "output_type": "display_data"
    },
    {
     "data": {
      "image/png": "[encoded data removed]",
      "text/plain": [
       "<matplotlib.figure.Figure at 0x272c3720710>"
      ]
     },
     "metadata": {},
     "output_type": "display_data"
    }
   ],
   "source": [
    "import matplotlib.pyplot as plt\n",
    "\n",
    "acc = history.history['acc']\n",
    "val_acc = history.history['val_acc']\n",
    "loss = history.history['loss']\n",
    "val_loss = history.history['val_loss']\n",
    "\n",
    "epochs = range(len(acc))\n",
    "\n",
    "plt.plot(epochs, acc, label='Training acc')\n",
    "plt.plot(epochs, val_acc, label='Validation acc')\n",
    "plt.title('Training and validation accuracy')\n",
    "plt.legend()\n",
    "\n",
    "plt.figure()\n",
    "\n",
    "plt.plot(epochs, loss, label='Training loss')\n",
    "plt.plot(epochs, val_loss, label='Validation loss')\n",
    "plt.title('Training and validation loss')\n",
    "plt.legend()\n",
    "\n",
    "plt.show()"
   ]
  },
  {
   "cell_type": "code",
   "execution_count": 9,
   "metadata": {},
   "outputs": [
    {
     "name": "stdout",
     "output_type": "stream",
     "text": [
      "(1, 8192)\n"
     ]
    },
    {
     "ename": "NameError",
     "evalue": "name 'generator' is not defined",
     "output_type": "error",
     "traceback": [
      "\u001b[1;31m---------------------------------------------------------------------------\u001b[0m",
      "\u001b[1;31mNameError\u001b[0m                                 Traceback (most recent call last)",
      "\u001b[1;32m<ipython-input-9-d6be674187e6>\u001b[0m in \u001b[0;36m<module>\u001b[1;34m()\u001b[0m\n\u001b[0;32m     14\u001b[0m \u001b[0mprint\u001b[0m\u001b[1;33m(\u001b[0m\u001b[0mimgfeature\u001b[0m\u001b[1;33m.\u001b[0m\u001b[0mshape\u001b[0m\u001b[1;33m)\u001b[0m\u001b[1;33m\u001b[0m\u001b[0m\n\u001b[0;32m     15\u001b[0m \u001b[0mresult\u001b[0m \u001b[1;33m=\u001b[0m \u001b[0mmodel\u001b[0m\u001b[1;33m.\u001b[0m\u001b[0mpredict\u001b[0m\u001b[1;33m(\u001b[0m\u001b[0mimgfeature\u001b[0m\u001b[1;33m)\u001b[0m\u001b[1;33m\u001b[0m\u001b[0m\n\u001b[1;32m---> 16\u001b[1;33m \u001b[0mgenerator\u001b[0m\u001b[1;33m.\u001b[0m\u001b[0mclass_indices\u001b[0m\u001b[1;33m\u001b[0m\u001b[0m\n\u001b[0m\u001b[0;32m     17\u001b[0m \u001b[0mgenerator\u001b[0m\u001b[1;33m.\u001b[0m\u001b[0mfilenames\u001b[0m\u001b[1;33m\u001b[0m\u001b[0m\n\u001b[0;32m     18\u001b[0m \u001b[0mmodel\u001b[0m\u001b[1;33m.\u001b[0m\u001b[0mpredict\u001b[0m\u001b[1;33m(\u001b[0m\u001b[0mimgfeature\u001b[0m\u001b[1;33m)\u001b[0m\u001b[1;33m\u001b[0m\u001b[0m\n",
      "\u001b[1;31mNameError\u001b[0m: name 'generator' is not defined"
     ]
    }
   ],
   "source": [
    "from keras.preprocessing import image\n",
    "from keras.applications.resnet50 import preprocess_input, decode_predictions\n",
    "import numpy as np\n",
    "\n",
    "\n",
    "img_path = 'C:\\\\Users\\\\Java\\\\tensorflow\\\\testdog\\\\data\\\\cats_and_dogs_small\\\\test\\\\cats\\\\cat.1507.jpg'\n",
    "img = image.load_img(img_path, target_size=(150, 150))\n",
    "x = image.img_to_array(img)\n",
    "x = np.expand_dims(x, axis=0)\n",
    "x = preprocess_input(x)\n",
    "\n",
    "imgfeature = conv_base.predict(x)\n",
    "imgfeature = np.reshape(imgfeature, (1, 4 * 4 * 512))\n",
    "print(imgfeature.shape)\n",
    "result = model.predict(imgfeature)\n",
    "generator.class_indices\n",
    "generator.filenames\n",
    "model.predict(imgfeature)\n",
    "# decode the results into a list of tuples (class, description, probability)\n",
    "# (one such list for each sample in the batch)\n",
    "#print('Predicted:', decode_predictions(preds))\n"
   ]
  },
  {
   "cell_type": "markdown",
   "metadata": {},
   "source": [
    "## 方法2: (卷積基底:凍結 + 串接新的密集分類層) >> 重新訓練"
   ]
  },
  {
   "cell_type": "markdown",
   "metadata": {},
   "source": [
    "現在，我們來回顧一下我們提到的第二種特徵提取技術，這種方法要慢得多，而且會花更多的時間與計算資源，但是我們可以在訓練過程中利用數據擴充(data augmentation): 擴展conv_base模型，並進行端(end)對端(end)的訓練。\n",
    "\n",
    "請注意，這種手法真的是非常昂貴的，所以只有在你有GPU時才應該嘗試它：在CPU上是絕對棘手的。如果您無法在GPU上運行代碼，那麼前一個手法就是你要選的路。\n",
    "\n",
    "因為模型的行為就像堆積木，所以你可以添加一個模型（像我們的conv_base）到Sequential模型，就像添加一個圖層一樣。所以你可以執行以下操作："
   ]
  },
  {
   "cell_type": "markdown",
   "metadata": {},
   "source": [
    "### 移花+接木"
   ]
  },
  {
   "cell_type": "code",
   "execution_count": 10,
   "metadata": {
    "collapsed": true
   },
   "outputs": [],
   "source": [
    "from keras import models\n",
    "from keras import layers\n",
    "\n",
    "model = models.Sequential() # 產生一個新的網絡模型結構\n",
    "model.add(conv_base)        # 把預訓練的卷積基底疊上去\n",
    "model.add(layers.Flatten()) # 打平\n",
    "model.add(layers.Dense(256, activation='relu'))  # 疊上新的密集連接層來做為分類器\n",
    "model.add(layers.Dense(1, activation='sigmoid')) # 因為我的資料集只有兩類(cat & dog)"
   ]
  },
  {
   "cell_type": "code",
   "execution_count": 11,
   "metadata": {
    "scrolled": true
   },
   "outputs": [
    {
     "name": "stdout",
     "output_type": "stream",
     "text": [
      "_________________________________________________________________\n",
      "Layer (type)                 Output Shape              Param #   \n",
      "=================================================================\n",
      "vgg16 (Model)                (None, 4, 4, 512)         14714688  \n",
      "_________________________________________________________________\n",
      "flatten_1 (Flatten)          (None, 8192)              0         \n",
      "_________________________________________________________________\n",
      "dense_3 (Dense)              (None, 256)               2097408   \n",
      "_________________________________________________________________\n",
      "dense_4 (Dense)              (None, 1)                 257       \n",
      "=================================================================\n",
      "Total params: 16,812,353\n",
      "Trainable params: 16,812,353\n",
      "Non-trainable params: 0\n",
      "_________________________________________________________________\n"
     ]
    }
   ],
   "source": [
    "model.summary()"
   ]
  },
  {
   "cell_type": "code",
   "execution_count": 12,
   "metadata": {},
   "outputs": [
    {
     "name": "stdout",
     "output_type": "stream",
     "text": [
      "This is the number of trainable weights before freezing the conv base: 30\n"
     ]
    }
   ],
   "source": [
    "# 看一下“凍結前”有多少可以被訓練的權重\n",
    "print('This is the number of trainable weights '\n",
    "      'before freezing the conv base:', len(model.trainable_weights))"
   ]
  },
  {
   "cell_type": "code",
   "execution_count": 13,
   "metadata": {
    "collapsed": true
   },
   "outputs": [],
   "source": [
    "# “凍結”卷積基底\n",
    "conv_base.trainable = False"
   ]
  },
  {
   "cell_type": "code",
   "execution_count": 14,
   "metadata": {
    "scrolled": true
   },
   "outputs": [
    {
     "name": "stdout",
     "output_type": "stream",
     "text": [
      "This is the number of trainable weights after freezing the conv base: 4\n"
     ]
    }
   ],
   "source": [
    "# 再看一下“凍結後”有多少可以被訓練的權重\n",
    "print('This is the number of trainable weights '\n",
    "      'after freezing the conv base:', len(model.trainable_weights))"
   ]
  },
  {
   "cell_type": "code",
   "execution_count": 20,
   "metadata": {
    "scrolled": true
   },
   "outputs": [
    {
     "name": "stdout",
     "output_type": "stream",
     "text": [
      "Found 2000 images belonging to 2 classes.\n",
      "Found 1000 images belonging to 2 classes.\n",
      "Epoch 1/30\n",
      " - 79s - loss: 0.2654 - acc: 0.8930 - val_loss: 0.2480 - val_acc: 0.9030\n",
      "Epoch 2/30\n",
      " - 78s - loss: 0.2679 - acc: 0.8790 - val_loss: 0.2483 - val_acc: 0.9000\n",
      "Epoch 3/30\n",
      " - 78s - loss: 0.2655 - acc: 0.8920 - val_loss: 0.2445 - val_acc: 0.9030\n",
      "Epoch 4/30\n",
      " - 78s - loss: 0.2694 - acc: 0.8760 - val_loss: 0.2628 - val_acc: 0.8960\n",
      "Epoch 5/30\n",
      " - 78s - loss: 0.2718 - acc: 0.8830 - val_loss: 0.2447 - val_acc: 0.9050\n",
      "Epoch 6/30\n",
      " - 78s - loss: 0.2612 - acc: 0.8880 - val_loss: 0.2498 - val_acc: 0.9030\n",
      "Epoch 7/30\n",
      " - 78s - loss: 0.2614 - acc: 0.8890 - val_loss: 0.2523 - val_acc: 0.8980\n",
      "Epoch 8/30\n",
      " - 78s - loss: 0.2659 - acc: 0.8795 - val_loss: 0.2490 - val_acc: 0.9030\n",
      "Epoch 9/30\n",
      " - 78s - loss: 0.2585 - acc: 0.8815 - val_loss: 0.2489 - val_acc: 0.9020\n",
      "Epoch 10/30\n",
      " - 78s - loss: 0.2535 - acc: 0.8860 - val_loss: 0.2437 - val_acc: 0.9040\n",
      "Epoch 11/30\n",
      " - 78s - loss: 0.2609 - acc: 0.8830 - val_loss: 0.2451 - val_acc: 0.9060\n",
      "Epoch 12/30\n",
      " - 78s - loss: 0.2582 - acc: 0.8975 - val_loss: 0.2573 - val_acc: 0.8960\n",
      "Epoch 13/30\n",
      " - 78s - loss: 0.2505 - acc: 0.8980 - val_loss: 0.2453 - val_acc: 0.9060\n",
      "Epoch 14/30\n",
      " - 78s - loss: 0.2512 - acc: 0.8950 - val_loss: 0.2479 - val_acc: 0.9070\n",
      "Epoch 15/30\n",
      " - 78s - loss: 0.2553 - acc: 0.8925 - val_loss: 0.2570 - val_acc: 0.9010\n",
      "Epoch 16/30\n",
      " - 78s - loss: 0.2557 - acc: 0.8875 - val_loss: 0.2473 - val_acc: 0.9070\n",
      "Epoch 17/30\n",
      " - 78s - loss: 0.2633 - acc: 0.8825 - val_loss: 0.2612 - val_acc: 0.8950\n",
      "Epoch 18/30\n",
      " - 78s - loss: 0.2668 - acc: 0.8855 - val_loss: 0.2469 - val_acc: 0.9100\n",
      "Epoch 19/30\n",
      " - 78s - loss: 0.2489 - acc: 0.8920 - val_loss: 0.2440 - val_acc: 0.9080\n",
      "Epoch 20/30\n",
      " - 78s - loss: 0.2550 - acc: 0.8910 - val_loss: 0.2507 - val_acc: 0.9040\n",
      "Epoch 21/30\n",
      " - 78s - loss: 0.2668 - acc: 0.8870 - val_loss: 0.2428 - val_acc: 0.9060\n",
      "Epoch 22/30\n",
      " - 78s - loss: 0.2565 - acc: 0.8925 - val_loss: 0.2427 - val_acc: 0.9070\n",
      "Epoch 23/30\n",
      " - 78s - loss: 0.2577 - acc: 0.8875 - val_loss: 0.2525 - val_acc: 0.9010\n",
      "Epoch 24/30\n",
      " - 78s - loss: 0.2429 - acc: 0.8940 - val_loss: 0.2732 - val_acc: 0.8930\n",
      "Epoch 25/30\n",
      " - 78s - loss: 0.2372 - acc: 0.8995 - val_loss: 0.2586 - val_acc: 0.8980\n",
      "Epoch 26/30\n",
      " - 78s - loss: 0.2430 - acc: 0.9000 - val_loss: 0.2501 - val_acc: 0.9050\n",
      "Epoch 27/30\n",
      " - 93s - loss: 0.2434 - acc: 0.8925 - val_loss: 0.2512 - val_acc: 0.9040\n",
      "Epoch 28/30\n",
      " - 101s - loss: 0.2442 - acc: 0.9020 - val_loss: 0.2504 - val_acc: 0.9060\n",
      "Epoch 29/30\n",
      " - 101s - loss: 0.2435 - acc: 0.8985 - val_loss: 0.2471 - val_acc: 0.9120\n",
      "Epoch 30/30\n",
      " - 101s - loss: 0.2665 - acc: 0.8850 - val_loss: 0.2475 - val_acc: 0.9090\n"
     ]
    }
   ],
   "source": [
    "from keras.preprocessing.image import ImageDataGenerator\n",
    "\n",
    "train_datagen = ImageDataGenerator(\n",
    "      rescale=1./255,\n",
    "      rotation_range=40,\n",
    "      width_shift_range=0.2,\n",
    "      height_shift_range=0.2,\n",
    "      shear_range=0.2,\n",
    "      zoom_range=0.2,\n",
    "      horizontal_flip=True,\n",
    "      fill_mode='nearest')\n",
    "\n",
    "# 請注意: 驗證用的資料不要進行資料的增強\n",
    "test_datagen = ImageDataGenerator(rescale=1./255)\n",
    "\n",
    "train_generator = train_datagen.flow_from_directory(\n",
    "        # 圖像資料的目錄\n",
    "        train_dir,\n",
    "        # 設定圖像的高(height)與寬(width)\n",
    "        target_size=(150, 150),\n",
    "        batch_size=20,\n",
    "        # 因為我們的目標資料集只有兩類(cat & dog)\n",
    "        class_mode='binary')\n",
    "\n",
    "validation_generator = test_datagen.flow_from_directory(\n",
    "        validation_dir,\n",
    "        target_size=(150, 150),\n",
    "        batch_size=20,\n",
    "        class_mode='binary')\n",
    "\n",
    "model.compile(loss='binary_crossentropy',\n",
    "              optimizer=optimizers.RMSprop(lr=2e-5),\n",
    "              metrics=['acc'])\n",
    "\n",
    "history = model.fit_generator(\n",
    "      train_generator,\n",
    "      steps_per_epoch=100,\n",
    "      epochs=30,\n",
    "      validation_data=validation_generator,\n",
    "      validation_steps=50,\n",
    "      verbose=2)"
   ]
  },
  {
   "cell_type": "code",
   "execution_count": 23,
   "metadata": {
    "collapsed": true
   },
   "outputs": [],
   "source": [
    "model.save('cats_and_dogs_small_3.h5') # 把模型儲存到檔案"
   ]
  },
  {
   "cell_type": "code",
   "execution_count": 21,
   "metadata": {},
   "outputs": [
    {
     "data": {
      "image/png": "[encoded data removed]",
      "text/plain": [
       "<matplotlib.figure.Figure at 0x27337814dd8>"
      ]
     },
     "metadata": {},
     "output_type": "display_data"
    },
    {
     "data": {
      "image/png": "[encoded data removed]",
      "text/plain": [
       "<matplotlib.figure.Figure at 0x2733812e390>"
      ]
     },
     "metadata": {},
     "output_type": "display_data"
    }
   ],
   "source": [
    "acc = history.history['acc']\n",
    "val_acc = history.history['val_acc']\n",
    "loss = history.history['loss']\n",
    "val_loss = history.history['val_loss']\n",
    "\n",
    "epochs = range(len(acc))\n",
    "\n",
    "plt.plot(epochs, acc, label='Training acc')\n",
    "plt.plot(epochs, val_acc, label='Validation acc')\n",
    "plt.title('Training and validation accuracy')\n",
    "plt.legend()\n",
    "\n",
    "plt.figure()\n",
    "\n",
    "plt.plot(epochs, loss, label='Training loss')\n",
    "plt.plot(epochs, val_loss, label='Validation loss')\n",
    "plt.title('Training and validation loss')\n",
    "plt.legend()\n",
    "\n",
    "plt.show()"
   ]
  },
  {
   "cell_type": "markdown",
   "metadata": {},
   "source": [
    "# 微調 (fine-tuning)\n",
    "\n",
    "另一種廣泛使用的模型重覆利用技術，與_特徵提取(feature extraction)_相輔相成，是 _(微調) fine-tuning_。\n",
    "\n",
    "微調包括解凍用於特徵提取的凍結模型庫中的幾個頂層(top layers)，並且共同訓練新添加的模型部分（在我們的範例中是完全連接的分類器）和這些頂層。這被稱為“微調(fine-tuning)”，因為它稍微調整正在重複使用的模型中更抽象的表示，以使它們與當前的要處理的問題更相關。\n",
    "\n",
    "![fine-tuning VGG16](https://s3.amazonaws.com/book.keras.io/img/ch5/vgg16_fine_tuning.png)"
   ]
  },
  {
   "cell_type": "code",
   "execution_count": 22,
   "metadata": {},
   "outputs": [
    {
     "name": "stdout",
     "output_type": "stream",
     "text": [
      "input_1: False\n",
      "block1_conv1: False\n",
      "block1_conv2: False\n",
      "block1_pool: False\n",
      "block2_conv1: False\n",
      "block2_conv2: False\n",
      "block2_pool: False\n",
      "block3_conv1: False\n",
      "block3_conv2: False\n",
      "block3_conv3: False\n",
      "block3_pool: False\n",
      "block4_conv1: False\n",
      "block4_conv2: False\n",
      "block4_conv3: False\n",
      "block4_pool: False\n",
      "block5_conv1: True\n",
      "block5_conv2: True\n",
      "block5_conv3: True\n",
      "block5_pool: True\n"
     ]
    }
   ],
   "source": [
    "conv_base.trainable = True # 解凍 \"卷積基底\"\n",
    "\n",
    "# 所有層直到block4_pool都應該被凍結，而 block5_conv1，block5_conv2, block5_conv3 及 block5_pool則被解凍        \n",
    "layers_frozen = ['block5_conv1','block5_conv2', 'block5_conv3', 'block5_pool']\n",
    "for layer in conv_base.layers:\n",
    "    if layer.name in layers_frozen:\n",
    "        layer.trainable = True\n",
    "    else:\n",
    "        layer.trainable = False\n",
    "        \n",
    "# 把每一層是否可以被\"trainable\"的flat打印出來\n",
    "for layer in conv_base.layers:\n",
    "    print(\"{}: {}\".format(layer.name, layer.trainable))"
   ]
  },
  {
   "cell_type": "code",
   "execution_count": 24,
   "metadata": {},
   "outputs": [
    {
     "name": "stdout",
     "output_type": "stream",
     "text": [
      "Epoch 1/100\n",
      "100/100 [==============================] - 113s 1s/step - loss: 0.2845 - acc: 0.8740 - val_loss: 0.2685 - val_acc: 0.8980\n",
      "Epoch 2/100\n",
      "100/100 [==============================] - 111s 1s/step - loss: 0.2507 - acc: 0.8915 - val_loss: 0.2366 - val_acc: 0.9120\n",
      "Epoch 3/100\n",
      "100/100 [==============================] - 111s 1s/step - loss: 0.2316 - acc: 0.9000 - val_loss: 0.2257 - val_acc: 0.9270\n",
      "Epoch 4/100\n",
      "100/100 [==============================] - 111s 1s/step - loss: 0.2056 - acc: 0.9145 - val_loss: 0.2267 - val_acc: 0.9270\n",
      "Epoch 5/100\n",
      "100/100 [==============================] - 111s 1s/step - loss: 0.2125 - acc: 0.9100 - val_loss: 0.2065 - val_acc: 0.9250\n",
      "Epoch 6/100\n",
      "100/100 [==============================] - 111s 1s/step - loss: 0.1798 - acc: 0.9280 - val_loss: 0.2131 - val_acc: 0.9190\n",
      "Epoch 7/100\n",
      "100/100 [==============================] - 111s 1s/step - loss: 0.1873 - acc: 0.9160 - val_loss: 0.2384 - val_acc: 0.9160\n",
      "Epoch 8/100\n",
      "100/100 [==============================] - 111s 1s/step - loss: 0.1612 - acc: 0.9305 - val_loss: 0.2409 - val_acc: 0.9230\n",
      "Epoch 9/100\n",
      "100/100 [==============================] - 111s 1s/step - loss: 0.1643 - acc: 0.9350 - val_loss: 0.2284 - val_acc: 0.9190\n",
      "Epoch 10/100\n",
      "100/100 [==============================] - 111s 1s/step - loss: 0.1639 - acc: 0.9350 - val_loss: 0.2271 - val_acc: 0.9180\n",
      "Epoch 11/100\n",
      "100/100 [==============================] - 111s 1s/step - loss: 0.1420 - acc: 0.9375 - val_loss: 0.2405 - val_acc: 0.9230\n",
      "Epoch 12/100\n",
      "100/100 [==============================] - 111s 1s/step - loss: 0.1438 - acc: 0.9415 - val_loss: 0.2293 - val_acc: 0.9310\n",
      "Epoch 13/100\n",
      "100/100 [==============================] - 111s 1s/step - loss: 0.1287 - acc: 0.9445 - val_loss: 0.2125 - val_acc: 0.9300\n",
      "Epoch 14/100\n",
      "100/100 [==============================] - 111s 1s/step - loss: 0.1303 - acc: 0.9480 - val_loss: 0.2275 - val_acc: 0.9190\n",
      "Epoch 15/100\n",
      "100/100 [==============================] - 111s 1s/step - loss: 0.1263 - acc: 0.9470 - val_loss: 0.2028 - val_acc: 0.9340\n",
      "Epoch 16/100\n",
      "100/100 [==============================] - 111s 1s/step - loss: 0.1365 - acc: 0.9530 - val_loss: 0.2137 - val_acc: 0.9290\n",
      "Epoch 17/100\n",
      "100/100 [==============================] - 111s 1s/step - loss: 0.1170 - acc: 0.9535 - val_loss: 0.2103 - val_acc: 0.9300\n",
      "Epoch 18/100\n",
      "100/100 [==============================] - 111s 1s/step - loss: 0.1027 - acc: 0.9585 - val_loss: 0.2490 - val_acc: 0.9210\n",
      "Epoch 19/100\n",
      "100/100 [==============================] - 111s 1s/step - loss: 0.1056 - acc: 0.9565 - val_loss: 0.2427 - val_acc: 0.9310\n",
      "Epoch 20/100\n",
      "100/100 [==============================] - 111s 1s/step - loss: 0.1044 - acc: 0.9625 - val_loss: 0.2258 - val_acc: 0.9300\n",
      "Epoch 21/100\n",
      "100/100 [==============================] - 111s 1s/step - loss: 0.1169 - acc: 0.9570 - val_loss: 0.2366 - val_acc: 0.9250\n",
      "Epoch 22/100\n",
      "100/100 [==============================] - 111s 1s/step - loss: 0.0866 - acc: 0.9660 - val_loss: 0.2539 - val_acc: 0.9280\n",
      "Epoch 23/100\n",
      "100/100 [==============================] - 111s 1s/step - loss: 0.0981 - acc: 0.9630 - val_loss: 0.2140 - val_acc: 0.9330\n",
      "Epoch 24/100\n",
      "100/100 [==============================] - 111s 1s/step - loss: 0.0821 - acc: 0.9660 - val_loss: 0.2313 - val_acc: 0.9330\n",
      "Epoch 25/100\n",
      "100/100 [==============================] - 111s 1s/step - loss: 0.0756 - acc: 0.9740 - val_loss: 0.2460 - val_acc: 0.9370\n",
      "Epoch 26/100\n",
      "100/100 [==============================] - 111s 1s/step - loss: 0.0815 - acc: 0.9685 - val_loss: 0.2383 - val_acc: 0.9300\n",
      "Epoch 27/100\n",
      "100/100 [==============================] - 111s 1s/step - loss: 0.0767 - acc: 0.9700 - val_loss: 0.2051 - val_acc: 0.9340\n",
      "Epoch 28/100\n",
      "100/100 [==============================] - 111s 1s/step - loss: 0.0698 - acc: 0.9740 - val_loss: 0.2281 - val_acc: 0.9350\n",
      "Epoch 29/100\n",
      "100/100 [==============================] - 111s 1s/step - loss: 0.0796 - acc: 0.9715 - val_loss: 0.2212 - val_acc: 0.9350\n",
      "Epoch 30/100\n",
      "100/100 [==============================] - 111s 1s/step - loss: 0.0767 - acc: 0.9725 - val_loss: 0.2278 - val_acc: 0.9370\n",
      "Epoch 31/100\n",
      "100/100 [==============================] - 111s 1s/step - loss: 0.0724 - acc: 0.9735 - val_loss: 0.2988 - val_acc: 0.9160\n",
      "Epoch 32/100\n",
      "100/100 [==============================] - 111s 1s/step - loss: 0.0793 - acc: 0.9700 - val_loss: 0.2632 - val_acc: 0.9270\n",
      "Epoch 33/100\n",
      "100/100 [==============================] - 111s 1s/step - loss: 0.0693 - acc: 0.9725 - val_loss: 0.2755 - val_acc: 0.9300\n",
      "Epoch 34/100\n",
      "100/100 [==============================] - 111s 1s/step - loss: 0.0640 - acc: 0.9745 - val_loss: 0.2504 - val_acc: 0.9380\n",
      "Epoch 35/100\n",
      "100/100 [==============================] - 111s 1s/step - loss: 0.0670 - acc: 0.9710 - val_loss: 0.2570 - val_acc: 0.9280\n",
      "Epoch 36/100\n",
      "100/100 [==============================] - 111s 1s/step - loss: 0.0655 - acc: 0.9735 - val_loss: 0.3046 - val_acc: 0.9290\n",
      "Epoch 37/100\n",
      "100/100 [==============================] - 111s 1s/step - loss: 0.0664 - acc: 0.9755 - val_loss: 0.2529 - val_acc: 0.9340\n",
      "Epoch 38/100\n",
      "100/100 [==============================] - 111s 1s/step - loss: 0.0608 - acc: 0.9765 - val_loss: 0.3135 - val_acc: 0.9190\n",
      "Epoch 39/100\n",
      "100/100 [==============================] - 111s 1s/step - loss: 0.0554 - acc: 0.9810 - val_loss: 0.2532 - val_acc: 0.9360\n",
      "Epoch 40/100\n",
      "100/100 [==============================] - 111s 1s/step - loss: 0.0567 - acc: 0.9780 - val_loss: 0.2758 - val_acc: 0.9380\n",
      "Epoch 41/100\n",
      "100/100 [==============================] - 111s 1s/step - loss: 0.0511 - acc: 0.9870 - val_loss: 0.2431 - val_acc: 0.9360\n",
      "Epoch 42/100\n",
      "100/100 [==============================] - 111s 1s/step - loss: 0.0517 - acc: 0.9825 - val_loss: 0.2324 - val_acc: 0.9420\n",
      "Epoch 43/100\n",
      "100/100 [==============================] - 111s 1s/step - loss: 0.0509 - acc: 0.9835 - val_loss: 0.2503 - val_acc: 0.9360\n",
      "Epoch 44/100\n",
      "100/100 [==============================] - 111s 1s/step - loss: 0.0556 - acc: 0.9780 - val_loss: 0.3148 - val_acc: 0.9240\n",
      "Epoch 45/100\n",
      "100/100 [==============================] - 111s 1s/step - loss: 0.0534 - acc: 0.9790 - val_loss: 0.2553 - val_acc: 0.9420\n",
      "Epoch 46/100\n",
      "100/100 [==============================] - 111s 1s/step - loss: 0.0389 - acc: 0.9880 - val_loss: 0.3221 - val_acc: 0.9290\n",
      "Epoch 47/100\n",
      "100/100 [==============================] - 111s 1s/step - loss: 0.0498 - acc: 0.9815 - val_loss: 0.2721 - val_acc: 0.9350\n",
      "Epoch 48/100\n",
      "100/100 [==============================] - 111s 1s/step - loss: 0.0543 - acc: 0.9755 - val_loss: 0.2641 - val_acc: 0.9340\n",
      "Epoch 49/100\n",
      "100/100 [==============================] - 111s 1s/step - loss: 0.0488 - acc: 0.9835 - val_loss: 0.2551 - val_acc: 0.9370\n",
      "Epoch 50/100\n",
      "100/100 [==============================] - 111s 1s/step - loss: 0.0488 - acc: 0.9825 - val_loss: 0.2598 - val_acc: 0.9350\n",
      "Epoch 51/100\n",
      "100/100 [==============================] - 111s 1s/step - loss: 0.0479 - acc: 0.9840 - val_loss: 0.3198 - val_acc: 0.9210\n",
      "Epoch 52/100\n",
      "100/100 [==============================] - 111s 1s/step - loss: 0.0459 - acc: 0.9820 - val_loss: 0.2881 - val_acc: 0.9400\n",
      "Epoch 53/100\n",
      "100/100 [==============================] - 111s 1s/step - loss: 0.0400 - acc: 0.9870 - val_loss: 0.2735 - val_acc: 0.9370\n",
      "Epoch 54/100\n",
      "100/100 [==============================] - 111s 1s/step - loss: 0.0465 - acc: 0.9870 - val_loss: 0.2987 - val_acc: 0.9300\n",
      "Epoch 55/100\n",
      "100/100 [==============================] - 111s 1s/step - loss: 0.0474 - acc: 0.9825 - val_loss: 0.2616 - val_acc: 0.9360\n",
      "Epoch 56/100\n",
      "100/100 [==============================] - 111s 1s/step - loss: 0.0407 - acc: 0.9845 - val_loss: 0.2582 - val_acc: 0.9370\n",
      "Epoch 57/100\n",
      "100/100 [==============================] - 111s 1s/step - loss: 0.0505 - acc: 0.9830 - val_loss: 0.3038 - val_acc: 0.9270\n",
      "Epoch 58/100\n",
      "100/100 [==============================] - 111s 1s/step - loss: 0.0375 - acc: 0.9880 - val_loss: 0.2676 - val_acc: 0.9380\n",
      "Epoch 59/100\n",
      "100/100 [==============================] - 111s 1s/step - loss: 0.0425 - acc: 0.9865 - val_loss: 0.2713 - val_acc: 0.9400\n",
      "Epoch 60/100\n",
      "100/100 [==============================] - 111s 1s/step - loss: 0.0271 - acc: 0.9915 - val_loss: 0.2860 - val_acc: 0.9370\n",
      "Epoch 61/100\n",
      "100/100 [==============================] - 111s 1s/step - loss: 0.0337 - acc: 0.9865 - val_loss: 0.2862 - val_acc: 0.9400\n"
     ]
    },
    {
     "name": "stdout",
     "output_type": "stream",
     "text": [
      "Epoch 62/100\n",
      "100/100 [==============================] - 111s 1s/step - loss: 0.0377 - acc: 0.9870 - val_loss: 0.3233 - val_acc: 0.9300\n",
      "Epoch 63/100\n",
      "100/100 [==============================] - 111s 1s/step - loss: 0.0262 - acc: 0.9895 - val_loss: 0.2893 - val_acc: 0.9360\n",
      "Epoch 64/100\n",
      "100/100 [==============================] - 111s 1s/step - loss: 0.0332 - acc: 0.9855 - val_loss: 0.3148 - val_acc: 0.9240\n",
      "Epoch 65/100\n",
      "100/100 [==============================] - 111s 1s/step - loss: 0.0313 - acc: 0.9915 - val_loss: 0.3289 - val_acc: 0.9350\n",
      "Epoch 66/100\n",
      "100/100 [==============================] - 111s 1s/step - loss: 0.0337 - acc: 0.9865 - val_loss: 0.2915 - val_acc: 0.9370\n",
      "Epoch 67/100\n",
      "100/100 [==============================] - 111s 1s/step - loss: 0.0273 - acc: 0.9900 - val_loss: 0.2954 - val_acc: 0.9370\n",
      "Epoch 68/100\n",
      "100/100 [==============================] - 111s 1s/step - loss: 0.0334 - acc: 0.9870 - val_loss: 0.3362 - val_acc: 0.9240\n",
      "Epoch 69/100\n",
      "100/100 [==============================] - 111s 1s/step - loss: 0.0294 - acc: 0.9905 - val_loss: 0.4280 - val_acc: 0.9110\n",
      "Epoch 70/100\n",
      "100/100 [==============================] - 111s 1s/step - loss: 0.0408 - acc: 0.9860 - val_loss: 0.3053 - val_acc: 0.9400\n",
      "Epoch 71/100\n",
      "100/100 [==============================] - 111s 1s/step - loss: 0.0302 - acc: 0.9895 - val_loss: 0.3025 - val_acc: 0.9340\n",
      "Epoch 72/100\n",
      "100/100 [==============================] - 111s 1s/step - loss: 0.0304 - acc: 0.9880 - val_loss: 0.3146 - val_acc: 0.9410\n",
      "Epoch 73/100\n",
      "100/100 [==============================] - 111s 1s/step - loss: 0.0257 - acc: 0.9890 - val_loss: 0.3333 - val_acc: 0.9370\n",
      "Epoch 74/100\n",
      "100/100 [==============================] - 111s 1s/step - loss: 0.0278 - acc: 0.9895 - val_loss: 0.3180 - val_acc: 0.9380\n",
      "Epoch 75/100\n",
      "100/100 [==============================] - 111s 1s/step - loss: 0.0206 - acc: 0.9930 - val_loss: 0.3416 - val_acc: 0.9350\n",
      "Epoch 76/100\n",
      "100/100 [==============================] - 111s 1s/step - loss: 0.0239 - acc: 0.9900 - val_loss: 0.4509 - val_acc: 0.9250\n",
      "Epoch 77/100\n",
      "100/100 [==============================] - 111s 1s/step - loss: 0.0342 - acc: 0.9885 - val_loss: 0.3030 - val_acc: 0.9370\n",
      "Epoch 78/100\n",
      "100/100 [==============================] - 111s 1s/step - loss: 0.0307 - acc: 0.9895 - val_loss: 0.2955 - val_acc: 0.9370\n",
      "Epoch 79/100\n",
      "100/100 [==============================] - 111s 1s/step - loss: 0.0215 - acc: 0.9920 - val_loss: 0.3210 - val_acc: 0.9370\n",
      "Epoch 80/100\n",
      "100/100 [==============================] - 111s 1s/step - loss: 0.0277 - acc: 0.9900 - val_loss: 0.3718 - val_acc: 0.9290\n",
      "Epoch 81/100\n",
      "100/100 [==============================] - 111s 1s/step - loss: 0.0278 - acc: 0.9930 - val_loss: 0.4629 - val_acc: 0.9180\n",
      "Epoch 82/100\n",
      "100/100 [==============================] - 111s 1s/step - loss: 0.0294 - acc: 0.9890 - val_loss: 0.3284 - val_acc: 0.9340\n",
      "Epoch 83/100\n",
      "100/100 [==============================] - 111s 1s/step - loss: 0.0326 - acc: 0.9900 - val_loss: 0.2784 - val_acc: 0.9400\n",
      "Epoch 84/100\n",
      "100/100 [==============================] - 111s 1s/step - loss: 0.0273 - acc: 0.9925 - val_loss: 0.3149 - val_acc: 0.9350\n",
      "Epoch 85/100\n",
      "100/100 [==============================] - 111s 1s/step - loss: 0.0223 - acc: 0.9925 - val_loss: 0.3284 - val_acc: 0.9290\n",
      "Epoch 86/100\n",
      "100/100 [==============================] - 111s 1s/step - loss: 0.0264 - acc: 0.9890 - val_loss: 0.2951 - val_acc: 0.9400\n",
      "Epoch 87/100\n",
      "100/100 [==============================] - 111s 1s/step - loss: 0.0249 - acc: 0.9910 - val_loss: 0.3206 - val_acc: 0.9410\n",
      "Epoch 88/100\n",
      "100/100 [==============================] - 111s 1s/step - loss: 0.0260 - acc: 0.9885 - val_loss: 0.3617 - val_acc: 0.9310\n",
      "Epoch 89/100\n",
      "100/100 [==============================] - 111s 1s/step - loss: 0.0198 - acc: 0.9935 - val_loss: 0.3503 - val_acc: 0.9360\n",
      "Epoch 90/100\n",
      "100/100 [==============================] - 111s 1s/step - loss: 0.0180 - acc: 0.9925 - val_loss: 0.3873 - val_acc: 0.9350\n",
      "Epoch 91/100\n",
      "100/100 [==============================] - 111s 1s/step - loss: 0.0329 - acc: 0.9890 - val_loss: 0.3108 - val_acc: 0.9370\n",
      "Epoch 92/100\n",
      "100/100 [==============================] - 111s 1s/step - loss: 0.0184 - acc: 0.9940 - val_loss: 0.3364 - val_acc: 0.9340\n",
      "Epoch 93/100\n",
      "100/100 [==============================] - 111s 1s/step - loss: 0.0236 - acc: 0.9910 - val_loss: 0.3147 - val_acc: 0.9410\n",
      "Epoch 94/100\n",
      "100/100 [==============================] - 111s 1s/step - loss: 0.0351 - acc: 0.9870 - val_loss: 0.2635 - val_acc: 0.9320\n",
      "Epoch 95/100\n",
      "100/100 [==============================] - 111s 1s/step - loss: 0.0243 - acc: 0.9930 - val_loss: 0.2854 - val_acc: 0.9350\n",
      "Epoch 96/100\n",
      "100/100 [==============================] - 111s 1s/step - loss: 0.0259 - acc: 0.9910 - val_loss: 0.3911 - val_acc: 0.9290\n",
      "Epoch 97/100\n",
      "100/100 [==============================] - 111s 1s/step - loss: 0.0178 - acc: 0.9940 - val_loss: 0.3643 - val_acc: 0.9350\n",
      "Epoch 98/100\n",
      "100/100 [==============================] - 111s 1s/step - loss: 0.0185 - acc: 0.9915 - val_loss: 0.3503 - val_acc: 0.9330\n",
      "Epoch 99/100\n",
      "100/100 [==============================] - 111s 1s/step - loss: 0.0237 - acc: 0.9915 - val_loss: 0.3065 - val_acc: 0.9360\n",
      "Epoch 100/100\n",
      "100/100 [==============================] - 111s 1s/step - loss: 0.0166 - acc: 0.9950 - val_loss: 0.3315 - val_acc: 0.9360\n"
     ]
    }
   ],
   "source": [
    "model.compile(loss='binary_crossentropy',\n",
    "              optimizer=optimizers.RMSprop(lr=1e-5), # 使用小的learn rate\n",
    "              metrics=['acc'])\n",
    "\n",
    "history = model.fit_generator(\n",
    "      train_generator,\n",
    "      steps_per_epoch=100,\n",
    "      epochs=100,\n",
    "      validation_data=validation_generator,\n",
    "      validation_steps=50)"
   ]
  },
  {
   "cell_type": "code",
   "execution_count": 25,
   "metadata": {
    "collapsed": true
   },
   "outputs": [],
   "source": [
    "model.save('cats_and_dogs_small_4.h5')"
   ]
  },
  {
   "cell_type": "code",
   "execution_count": 26,
   "metadata": {},
   "outputs": [
    {
     "data": {
      "image/png": "[encoded data removed]",
      "text/plain": [
       "<matplotlib.figure.Figure at 0x27337c84390>"
      ]
     },
     "metadata": {},
     "output_type": "display_data"
    },
    {
     "data": {
      "image/png": "[encoded data removed]",
      "text/plain": [
       "<matplotlib.figure.Figure at 0x27338190080>"
      ]
     },
     "metadata": {},
     "output_type": "display_data"
    }
   ],
   "source": [
    "acc = history.history['acc']\n",
    "val_acc = history.history['val_acc']\n",
    "loss = history.history['loss']\n",
    "val_loss = history.history['val_loss']\n",
    "\n",
    "epochs = range(len(acc))\n",
    "\n",
    "plt.plot(epochs, acc, label='Training acc')\n",
    "plt.plot(epochs, val_acc, label='Validation acc')\n",
    "plt.title('Training and validation accuracy')\n",
    "plt.legend()\n",
    "\n",
    "plt.figure()\n",
    "\n",
    "plt.plot(epochs, loss, label='Training loss')\n",
    "plt.plot(epochs, val_loss, label='Validation loss')\n",
    "plt.title('Training and validation loss')\n",
    "plt.legend()\n",
    "\n",
    "plt.show()"
   ]
  },
  {
   "cell_type": "code",
   "execution_count": 27,
   "metadata": {
    "scrolled": true
   },
   "outputs": [
    {
     "data": {
      "image/png": "[encoded data removed]",
      "text/plain": [
       "<matplotlib.figure.Figure at 0x27337ed8518>"
      ]
     },
     "metadata": {},
     "output_type": "display_data"
    },
    {
     "data": {
      "image/png": "[encoded data removed]",
      "text/plain": [
       "<matplotlib.figure.Figure at 0x27337dc92e8>"
      ]
     },
     "metadata": {},
     "output_type": "display_data"
    }
   ],
   "source": [
    "def smooth_curve(points, factor=0.8):\n",
    "  smoothed_points = []\n",
    "  for point in points:\n",
    "    if smoothed_points:\n",
    "      previous = smoothed_points[-1]\n",
    "      smoothed_points.append(previous * factor + point * (1 - factor))\n",
    "    else:\n",
    "      smoothed_points.append(point)\n",
    "  return smoothed_points\n",
    "\n",
    "plt.plot(epochs,\n",
    "         smooth_curve(acc), label='Smoothed training acc')\n",
    "plt.plot(epochs,\n",
    "         smooth_curve(val_acc), label='Smoothed validation acc')\n",
    "plt.title('Training and validation accuracy')\n",
    "plt.legend()\n",
    "\n",
    "plt.figure()\n",
    "\n",
    "plt.plot(epochs,\n",
    "         smooth_curve(loss), label='Smoothed training loss')\n",
    "plt.plot(epochs,\n",
    "         smooth_curve(val_loss), label='Smoothed validation loss')\n",
    "plt.title('Training and validation loss')\n",
    "plt.legend()\n",
    "\n",
    "plt.show()"
   ]
  },
  {
   "cell_type": "code",
   "execution_count": 28,
   "metadata": {},
   "outputs": [
    {
     "name": "stdout",
     "output_type": "stream",
     "text": [
      "Found 1000 images belonging to 2 classes.\n",
      "test acc: 0.9339999914169311\n"
     ]
    }
   ],
   "source": [
    "test_generator = test_datagen.flow_from_directory(\n",
    "        test_dir,\n",
    "        target_size=(150, 150),\n",
    "        batch_size=20,\n",
    "        class_mode='binary')\n",
    "\n",
    "test_loss, test_acc = model.evaluate_generator(test_generator, steps=50)\n",
    "print('test acc:', test_acc)"
   ]
  }
 ],
 "metadata": {
  "kernelspec": {
   "display_name": "Python 3",
   "language": "python",
   "name": "python3"
  },
  "language_info": {
   "codemirror_mode": {
    "name": "ipython",
    "version": 3
   },
   "file_extension": ".py",
   "mimetype": "text/x-python",
   "name": "python",
   "nbconvert_exporter": "python",
   "pygments_lexer": "ipython3",
   "version": "3.6.4"
  }
 },
 "nbformat": 4,
 "nbformat_minor": 2
}
