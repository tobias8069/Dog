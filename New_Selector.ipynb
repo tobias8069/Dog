{
 "cells": [
  {
   "cell_type": "code",
   "execution_count": 2,
   "metadata": {},
   "outputs": [],
   "source": [
    "%matplotlib inline\n",
    "import tensorflow as tf\n",
    "\n",
    "\n",
    "import numpy as np\n",
    "import pandas as pd\n",
    "\n",
    "import datetime as dt\n",
    "import matplotlib.pyplot as plt\n",
    "from mpl_toolkits.axes_grid1 import ImageGrid\n",
    "from os import listdir, makedirs\n",
    "from os.path import join, exists, expanduser\n",
    "from tqdm import tqdm\n",
    "from sklearn.metrics import log_loss, accuracy_score\n",
    "from keras.preprocessing import image\n",
    "from keras.applications.vgg16 import VGG16\n",
    "from keras.applications.resnet50 import ResNet50\n",
    "from keras.applications import xception\n",
    "from keras.applications import inception_v3\n",
    "from keras.applications.vgg16 import preprocess_input, decode_predictions\n",
    "from sklearn.linear_model import LogisticRegression"
   ]
  },
  {
   "cell_type": "code",
   "execution_count": 3,
   "metadata": {},
   "outputs": [],
   "source": [
    "from keras.models import load_model\n",
    "from keras.applications.xception import Xception\n",
    "from keras.applications import Xception\n",
    "#load_model('xception_weights_tf_dim_ordering_tf_kernels_notop.h5')\n",
    "model = xception.Xception(weights='imagenet', include_top=True, pooling='avg')\n"
   ]
  },
  {
   "cell_type": "code",
   "execution_count": 4,
   "metadata": {},
   "outputs": [],
   "source": [
    "def read_img_model(img_path):\n",
    "        model = Xception(weights='imagenet', include_top=True, pooling='avg')\n",
    "        img = image.load_img(img_path, target_size=(150, 150))\n",
    "        x = image.img_to_array(img)\n",
    "        x = np.expand_dims(x, axis=0)\n",
    "        x = preprocess_input(x)\n",
    "        \n",
    "        preds = model.predict(x)\n",
    "        return decode_predictions(preds, top=1)[0][0][1:]"
   ]
  },
  {
   "cell_type": "code",
   "execution_count": null,
   "metadata": {},
   "outputs": [],
   "source": [
    "import os \n",
    "os.getcwd()\n",
    "os.chdir('D:\\\\BB105Project\\\\dogrecognition\\\\Model\\\\data')"
   ]
  },
  {
   "cell_type": "code",
   "execution_count": null,
   "metadata": {},
   "outputs": [
    {
     "name": "stdout",
     "output_type": "stream",
     "text": [
      "('mongoose', 0.39868933)\n",
      "('Border_collie', 0.98123026)\n",
      "('Afghan_hound', 0.9717219)\n",
      "('English_springer', 0.4044583)\n",
      "('Border_collie', 0.9827352)\n",
      "('Border_collie', 0.80863804)\n",
      "('Border_collie', 0.9929127)\n",
      "('Shetland_sheepdog', 0.9350831)\n",
      "('Border_collie', 0.9848061)\n",
      "('English_springer', 0.9999993)\n",
      "('Border_collie', 0.7659939)\n",
      "('Border_collie', 0.79202443)\n",
      "('Border_collie', 0.9952904)\n",
      "('ashcan', 0.83102983)\n"
     ]
    }
   ],
   "source": [
    "from keras.preprocessing import image\n",
    "from keras.applications import Xception\n",
    "from keras.applications.xception import preprocess_input, decode_predictions\n",
    "import shutil\n",
    "\n",
    "data_path = os.path.join(os.getcwd(),'train')\n",
    "destination = os.path.join(os.getcwd(),'select_train')\n",
    "breeds = os.listdir('train')\n",
    "\n",
    "for breed in breeds:\n",
    "\n",
    "    breed_path = os.path.join(data_path,breed)\n",
    "    drc_path = os.path.join(destination,breed)\n",
    "    \n",
    "    for img_path in os.listdir(breed_path):\n",
    "        os.chdir(breed_path)\n",
    "        \n",
    "        preds = read_img_model(img_path)\n",
    "        print(preds)\n",
    "        #src = os.path.join(breed_path, img_path)\n",
    "        #dst = os.path.join(drc_path, img_path)\n",
    "        #if not os.path.exists(dst):\n",
    "        #    shutil.copyfile(src, dst)"
   ]
  }
 ],
 "metadata": {
  "kernelspec": {
   "display_name": "Python 3",
   "language": "python",
   "name": "python3"
  }
 },
 "nbformat": 4,
 "nbformat_minor": 2
}
